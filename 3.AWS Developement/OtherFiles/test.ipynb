{
 "cells": [
  {
   "cell_type": "code",
   "execution_count": 24,
   "metadata": {},
   "outputs": [
    {
     "data": {
      "text/plain": [
       "2"
      ]
     },
     "execution_count": 24,
     "metadata": {},
     "output_type": "execute_result"
    }
   ],
   "source": [
    "1+1"
   ]
  },
  {
   "cell_type": "markdown",
   "metadata": {},
   "source": [
    "if loop with Indentation\n",
    "\n",
    "# Test different ages\n",
    "1. age = 40  # Will print: \"you are not a baby\"\n",
    "2. age = 33  # Will print: \"you are an adult\"\n",
    "3. age = 15  # Will print: \"you are a teenager\"\n",
    "4. age = 5   # Will print: \"you are a child\"\n",
    "5. age = 1   # Will print: \"you are a baby\"\n"
   ]
  },
  {
   "cell_type": "code",
   "execution_count": 25,
   "metadata": {},
   "outputs": [
    {
     "name": "stdout",
     "output_type": "stream",
     "text": [
      "you are not a baby, you can marry now\n"
     ]
    }
   ],
   "source": [
    "age == 21\n",
    "if age > 20:\n",
    "    print('you are not a baby, you can marry now')\n",
    "else:\n",
    "    print('you are a baby')"
   ]
  },
  {
   "cell_type": "markdown",
   "metadata": {},
   "source": [
    "### Line Continuation\n",
    "1. To split long lines of code across multiple lines for better readability. Here are the main methods:\n",
    "\n",
    "Using Backslash ( \\):"
   ]
  },
  {
   "cell_type": "code",
   "execution_count": 31,
   "metadata": {},
   "outputs": [
    {
     "name": "stdout",
     "output_type": "stream",
     "text": [
      "This is a very long string that continues on the next line\n",
      "45\n"
     ]
    }
   ],
   "source": [
    "# Using backslash for line continuation\n",
    "long_string = \"This is a very long string that \\\n",
    "continues on the next line\"\n",
    "\n",
    "total = 1 + 2 + 3 + \\\n",
    "        4 + 5 + 6 + \\\n",
    "        7 + 8 + 9\n",
    "print(long_string)\n",
    "print(total)"
   ]
  },
  {
   "cell_type": "markdown",
   "metadata": {},
   "source": []
  }
 ],
 "metadata": {
  "kernelspec": {
   "display_name": "Python 3",
   "language": "python",
   "name": "python3"
  },
  "language_info": {
   "codemirror_mode": {
    "name": "ipython",
    "version": 3
   },
   "file_extension": ".py",
   "mimetype": "text/x-python",
   "name": "python",
   "nbconvert_exporter": "python",
   "pygments_lexer": "ipython3",
   "version": "3.13.1"
  }
 },
 "nbformat": 4,
 "nbformat_minor": 2
}
