{
 "cells": [
  {
   "cell_type": "code",
   "execution_count": 4,
   "metadata": {},
   "outputs": [
    {
     "name": "stdout",
     "output_type": "stream",
     "text": [
      "True\n"
     ]
    }
   ],
   "source": [
    "import math\n",
    "\n",
    "def is_prodcut_division(numbers,divisor):\n",
    "    if divisor == 0:\n",
    "        return False\n",
    "    if not numbers:\n",
    "        return False\n",
    "    product = math.prod(numbers)\n",
    "\n",
    "    return product % divisor == 0\n",
    "\n",
    "numbers = [2,  3, 5]\n",
    "divisor = 1\n",
    "\n",
    "result = is_prodcut_division(numbers, divisor)\n",
    "print(result)\n",
    "    "
   ]
  }
 ],
 "metadata": {
  "kernelspec": {
   "display_name": "Python 3",
   "language": "python",
   "name": "python3"
  },
  "language_info": {
   "codemirror_mode": {
    "name": "ipython",
    "version": 3
   },
   "file_extension": ".py",
   "mimetype": "text/x-python",
   "name": "python",
   "nbconvert_exporter": "python",
   "pygments_lexer": "ipython3",
   "version": "3.13.1"
  }
 },
 "nbformat": 4,
 "nbformat_minor": 2
}
