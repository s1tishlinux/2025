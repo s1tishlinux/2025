{
 "cells": [
  {
   "cell_type": "code",
   "execution_count": null,
   "metadata": {},
   "outputs": [],
   "source": [
    "##Working with Dates and Time\n",
    "from datetime import datetime, timedelta\n",
    "import pytz\n",
    "\n",
    "# Current date and time\n",
    "now = datetime.now()\n",
    "print(now)\n",
    "\n",
    "# Creating specific date\n",
    "date = datetime(2023, 12, 31)\n",
    "\n",
    "# Date formatting\n",
    "formatted_date = now.strftime(\"%Y-%m-%d %H:%M:%S\")\n",
    "print(formatted_date)\n",
    "\n",
    "# Date arithmetic\n",
    "tomorrow = now + timedelta(days=1)\n",
    "next_week = now + timedelta(weeks=1)\n",
    "\n",
    "# Working with timezones\n",
    "utc = pytz.UTC\n",
    "ny_tz = pytz.timezone('America/New_York')\n",
    "ny_time = datetime.now(ny_tz)\n"
   ]
  },
  {
   "cell_type": "code",
   "execution_count": null,
   "metadata": {},
   "outputs": [
    {
     "name": "stdout",
     "output_type": "stream",
     "text": [
      "B method\n",
      "(<class '__main__.D'>, <class '__main__.B'>, <class '__main__.C'>, <class '__main__.A'>, <class 'object'>)\n",
      "True\n",
      "True\n",
      "True\n",
      "Shows which method implementation will be used\n",
      "<bound method B.method of <__main__.D object at 0x104cbe270>>\n"
     ]
    }
   ],
   "source": [
    "class A:\n",
    "    def method(self):\n",
    "        print(\"A method\")\n",
    "class B(A):\n",
    "    def method(self):\n",
    "        print(\"B method\")\n",
    "class C(A):\n",
    "    def method(self):\n",
    "        print(\"C method\")\n",
    "class D(B,C):\n",
    "        #C.method(self)\n",
    "        #B.method(self)\n",
    "        #A.method(self)\n",
    "\n",
    "    pass\n",
    "d = D()\n",
    "d.method()\n",
    "\n",
    "print(D.__mro__)\n",
    "\n",
    "\n",
    "#Or check if class is in the MRO\n",
    "print(C in D.__mro__)\n",
    "print(B in D.__mro__)\n",
    "print(issubclass(D, A))\n",
    "\n",
    "\n",
    "print(\"Shows which method implementation will be used\")\n",
    "print(D.__getattribute__(d, 'method'))  # Shows which method implementation will be used\n",
    "\n",
    "\n"
   ]
  }
 ],
 "metadata": {
  "kernelspec": {
   "display_name": "Python 3",
   "language": "python",
   "name": "python3"
  },
  "language_info": {
   "name": "python",
   "version": "3.13.1"
  }
 },
 "nbformat": 4,
 "nbformat_minor": 2
}
