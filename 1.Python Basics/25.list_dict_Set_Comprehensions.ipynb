{
 "cells": [
  {
   "cell_type": "code",
   "execution_count": 1,
   "metadata": {},
   "outputs": [
    {
     "name": "stdout",
     "output_type": "stream",
     "text": [
      "{0: 0, 1: 1, 2: 4, 3: 9, 4: 16}\n",
      "{0, 2, 4, 6, 8}\n"
     ]
    }
   ],
   "source": [
    "##List/Dictionary/Set Comprehensions\n",
    "\n",
    "# List comprehension\n",
    "squares = [x**2 for x in range(10)]\n",
    "even_squares = [x**2 for x in range(10) if x % 2 == 0]\n",
    "\n",
    "# Dictionary comprehension\n",
    "square_dict = {x: x**2 for x in range(5)}\n",
    "print(square_dict)  # Output: {0: 0, 1: 1, 2: 4, 3: 9, 4: 16}\n",
    "\n",
    "# Set comprehension\n",
    "even_set = {x for x in range(10) if x % 2 == 0}\n",
    "print(even_set)  # Output: {0, 2, 4, 6, 8}\n"
   ]
  }
 ],
 "metadata": {
  "kernelspec": {
   "display_name": "Python 3",
   "language": "python",
   "name": "python3"
  },
  "language_info": {
   "codemirror_mode": {
    "name": "ipython",
    "version": 3
   },
   "file_extension": ".py",
   "mimetype": "text/x-python",
   "name": "python",
   "nbconvert_exporter": "python",
   "pygments_lexer": "ipython3",
   "version": "3.13.1"
  }
 },
 "nbformat": 4,
 "nbformat_minor": 2
}
