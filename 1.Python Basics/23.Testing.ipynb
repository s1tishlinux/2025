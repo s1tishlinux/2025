{
 "cells": [
  {
   "cell_type": "code",
   "execution_count": null,
   "metadata": {},
   "outputs": [],
   "source": [
    "##Testing\n",
    "import unittest\n",
    "\n",
    "class Calculator:\n",
    "    def add(self, x, y):\n",
    "        return x + y\n",
    "\n",
    "    def divide(self, x, y):\n",
    "        if y == 0:\n",
    "            raise ValueError(\"Cannot divide by zero\")\n",
    "        return x / y\n",
    "\n",
    "class TestCalculator(unittest.TestCase):\n",
    "    def setUp(self):\n",
    "        self.calc = Calculator()\n",
    "\n",
    "    def test_add(self):\n",
    "        self.assertEqual(self.calc.add(2, 3), 5)\n",
    "        self.assertEqual(self.calc.add(-1, 1), 0)\n",
    "\n",
    "    def test_divide(self):\n",
    "        self.assertEqual(self.calc.divide(6, 2), 3)\n",
    "        with self.assertRaises(ValueError):\n",
    "            self.calc.divide(5, 0)\n",
    "\n",
    "if __name__ == '__main__':\n",
    "    unittest.main()\n"
   ]
  }
 ],
 "metadata": {
  "kernelspec": {
   "display_name": "Python 3",
   "language": "python",
   "name": "python3"
  },
  "language_info": {
   "name": "python",
   "version": "3.13.1"
  }
 },
 "nbformat": 4,
 "nbformat_minor": 2
}
