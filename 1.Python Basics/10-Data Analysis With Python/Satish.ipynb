{
 "cells": [
  {
   "cell_type": "code",
   "execution_count": null,
   "metadata": {},
   "outputs": [],
   "source": [
    "import pandas as pd\n",
    "df = pd.read_csv('data.csv')\n",
    "print(df)\n",
    "\n",
    "\n",
    "df"
   ]
  },
  {
   "cell_type": "code",
   "execution_count": 6,
   "metadata": {},
   "outputs": [],
   "source": [
    "df\n",
    "import matplotlib.pyplot as plt\n",
    "plt.show()"
   ]
  },
  {
   "cell_type": "code",
   "execution_count": 11,
   "metadata": {},
   "outputs": [
    {
     "name": "stdout",
     "output_type": "stream",
     "text": [
      "          Date Category  Value   Product  Sales Region\n",
      "0   2023-01-01        A   28.0  Product1  754.0   East\n",
      "1   2023-01-02        B   39.0  Product3  110.0  North\n",
      "2   2023-01-03        C   32.0  Product2  398.0   East\n",
      "3   2023-01-04        B    8.0  Product1  522.0   East\n",
      "4   2023-01-05        B   26.0  Product3  869.0  North\n",
      "5   2023-01-06        B   54.0  Product3  192.0   West\n",
      "6   2023-01-07        A   16.0  Product1  936.0   East\n",
      "7   2023-01-08        C   89.0  Product1  488.0   West\n",
      "8   2023-01-09        C   37.0  Product3  772.0   West\n",
      "9   2023-01-10        A   22.0  Product2  834.0   West\n",
      "10  2023-01-11        B    7.0  Product1  842.0  North\n",
      "11  2023-01-12        B   60.0  Product2    NaN   West\n",
      "12  2023-01-13        A   70.0  Product3  628.0  South\n",
      "13  2023-01-14        A   69.0  Product1  423.0   East\n",
      "14  2023-01-15        A   47.0  Product2  893.0   West\n",
      "15  2023-01-16        C    NaN  Product1  895.0  North\n",
      "16  2023-01-17        C   93.0  Product2  511.0  South\n",
      "17  2023-01-18        C    NaN  Product1  108.0   West\n",
      "18  2023-01-19        A   31.0  Product2  578.0   West\n",
      "19  2023-01-20        A   59.0  Product1  736.0   East\n",
      "20  2023-01-21        C   82.0  Product3  606.0  South\n",
      "21  2023-01-22        C   37.0  Product2  992.0  South\n",
      "22  2023-01-23        B   62.0  Product3  942.0  North\n",
      "23  2023-01-24        C   92.0  Product2  342.0   West\n",
      "24  2023-01-25        A   24.0  Product2  458.0   East\n",
      "25  2023-01-26        C   95.0  Product1  584.0   West\n",
      "26  2023-01-27        C   71.0  Product2  619.0  North\n",
      "27  2023-01-28        C   56.0  Product2  224.0  North\n",
      "28  2023-01-29        B    NaN  Product3  617.0  North\n",
      "29  2023-01-30        C   51.0  Product2  737.0  South\n",
      "30  2023-01-31        B   50.0  Product3  735.0   West\n",
      "31  2023-02-01        A   17.0  Product2  189.0   West\n",
      "32  2023-02-02        B   63.0  Product3  338.0  South\n",
      "33  2023-02-03        C   27.0  Product3    NaN   East\n",
      "34  2023-02-04        C   70.0  Product3  669.0   West\n",
      "35  2023-02-05        B   60.0  Product2    NaN   West\n",
      "36  2023-02-06        C   36.0  Product3  177.0   East\n",
      "37  2023-02-07        C    2.0  Product1    NaN  North\n",
      "38  2023-02-08        C   94.0  Product1  408.0  South\n",
      "39  2023-02-09        A   62.0  Product1  155.0   West\n",
      "40  2023-02-10        B   15.0  Product1  578.0   East\n",
      "41  2023-02-11        C   97.0  Product1  256.0   East\n",
      "42  2023-02-12        A   93.0  Product3  164.0   West\n",
      "43  2023-02-13        A   43.0  Product3  949.0   East\n",
      "44  2023-02-14        A   96.0  Product3  830.0   East\n",
      "45  2023-02-15        B   99.0  Product2  599.0   West\n",
      "46  2023-02-16        B    6.0  Product1  938.0  South\n",
      "47  2023-02-17        B   69.0  Product3  143.0   West\n",
      "48  2023-02-18        C   65.0  Product3  182.0  North\n",
      "49  2023-02-19        C   11.0  Product3  708.0  North\n"
     ]
    },
    {
     "data": {
      "image/png": "[encoded data removed]",
      "text/plain": [
       "<Figure size 500x500 with 6 Axes>"
      ]
     },
     "metadata": {},
     "output_type": "display_data"
    }
   ],
   "source": [
    "df = pd.read_csv('data.csv')\n",
    "print(df)\n",
    "import seaborn as sns\n",
    "sns.pairplot(df)\n",
    "plt.show()\n"
   ]
  },
  {
   "cell_type": "code",
   "execution_count": 24,
   "metadata": {},
   "outputs": [
    {
     "name": "stdout",
     "output_type": "stream",
     "text": [
      "{'Name': 'satish', 'Age': '21', 'location': 'Hyd'}\n",
      "satish\n",
      "21\n",
      "Hyd\n",
      "dict_keys(['Name', 'Age', 'location'])\n",
      "dict_values(['satish', '21', 'Hyd'])\n"
     ]
    }
   ],
   "source": [
    "dict={'Name': \"satish\", 'Age': \"21\", 'location': \"Hyd\"}\n",
    "print(dict)\n",
    "\n",
    "print(dict['Name'])\n",
    "print(dict['Age'])\n",
    "print(dict['location'])\n",
    "print(dict.keys())\n",
    "print(dict.values())\n",
    "\n"
   ]
  },
  {
   "cell_type": "code",
   "execution_count": 49,
   "metadata": {},
   "outputs": [
    {
     "name": "stdout",
     "output_type": "stream",
     "text": [
      "0    {'Name': 'satish', 'Age': '21', 'lotation': 'H...\n",
      "dtype: object\n",
      "Name        satish\n",
      "Age             21\n",
      "lotation       Hyd\n",
      "dtype: object\n",
      "     Name Age lotation\n",
      "0  satish  21      Hyd\n"
     ]
    }
   ],
   "source": [
    "dict={ \"Name\":\"satish\" , \"Age\":\"21\" , \"lotation\":\"Hyd\"}\n",
    "df=pd.Series([dict]) #converts dict to series  df2=pd.Series(dict) #converts dict to series\n",
    "df2=pd.Series(dict) #converts dict to series where dictionary keys are used as index\n",
    "df3=pd.DataFrame([dict]) #converts dict to dataframe with one row and three columns where dictionary keys are used as columns and index is 0 \n",
    "df4=pd.DataFrame(dict)  #The issie with this is that it will give you a dataframe with 3 rows and 1 column\n",
    " \n",
    "print(df)\n",
    "print(df2)\n",
    "print(df3)\n",
    "\n",
    "\n",
    "\n",
    "\n"
   ]
  },
  {
   "cell_type": "code",
   "execution_count": null,
   "metadata": {},
   "outputs": [],
   "source": []
  }
 ],
 "metadata": {
  "kernelspec": {
   "display_name": "base",
   "language": "python",
   "name": "python3"
  },
  "language_info": {
   "codemirror_mode": {
    "name": "ipython",
    "version": 3
   },
   "file_extension": ".py",
   "mimetype": "text/x-python",
   "name": "python",
   "nbconvert_exporter": "python",
   "pygments_lexer": "ipython3",
   "version": "3.12.7"
  }
 },
 "nbformat": 4,
 "nbformat_minor": 2
}
