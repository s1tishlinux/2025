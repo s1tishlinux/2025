{
 "cells": [
  {
   "cell_type": "code",
   "execution_count": null,
   "metadata": {},
   "outputs": [],
   "source": [
    "##Purpose: Utilize advanced data structures like Counter, deque, and defaultdict.\n",
    "from collections import Counter, deque, defaultdict\n",
    "\n",
    "# Counter\n",
    "data = \"apple banana apple\"\n",
    "counter = Counter(data.split())\n",
    "print(counter)\n",
    "\n",
    "# Deque\n",
    "dq = deque([1, 2, 3])\n",
    "dq.appendleft(0)\n",
    "dq.pop()\n",
    "print(dq)\n",
    "\n",
    "# Defaultdict\n",
    "dd = defaultdict(list)\n",
    "dd['key'].append(1)\n",
    "print(dd)"
   ]
  }
 ],
 "metadata": {
  "kernelspec": {
   "display_name": "Python 3",
   "language": "python",
   "name": "python3"
  },
  "language_info": {
   "name": "python",
   "version": "3.13.1"
  }
 },
 "nbformat": 4,
 "nbformat_minor": 2
}
