{
 "cells": [
  {
   "cell_type": "code",
   "execution_count": null,
   "metadata": {},
   "outputs": [],
   "source": [
    "##Advanced Network Programming\n",
    "import socket\n",
    "import select\n",
    "\n",
    "class NonBlockingServer:\n",
    "    def __init__(self, host='localhost', port=8888):\n",
    "        self.server_socket = socket.socket(socket.AF_INET, socket.SOCK_STREAM)\n",
    "        self.server_socket.setsockopt(socket.SOL_SOCKET, socket.SO_REUSEADDR, 1)\n",
    "        self.server_socket.bind((host, port))\n",
    "        self.server_socket.listen(5)\n",
    "        self.server_socket.setblocking(False)\n",
    "        self.inputs = [self.server_socket]\n",
    "        self.outputs = []\n",
    "        self.message_queues = {}\n",
    "\n",
    "    def run(self):\n",
    "        while self.inputs:\n",
    "            readable, writable, exceptional = select.select(\n",
    "                self.inputs, self.outputs, self.inputs)\n",
    "            \n",
    "            for s in readable:\n",
    "                if s is self.server_socket:\n",
    "                    connection, client_address = s.accept()\n",
    "                    connection.setblocking(False)\n",
    "                    self.inputs.append(connection)\n",
    "                    self.message_queues[connection] = []\n",
    "                else:\n",
    "                    data = s.recv(1024)\n",
    "                    if data:\n",
    "                        self.message_queues[s].append(data)\n",
    "                        if s not in self.outputs:\n",
    "                            self.outputs.append(s)\n",
    "                    else:\n",
    "                        if s in self.outputs:\n",
    "                            self.outputs.remove(s)\n",
    "                        self.inputs.remove(s)\n",
    "                        s.close()\n",
    "                        del self.message_queues[s]\n"
   ]
  }
 ],
 "metadata": {
  "kernelspec": {
   "display_name": "Python 3",
   "language": "python",
   "name": "python3"
  },
  "language_info": {
   "name": "python",
   "version": "3.13.1"
  }
 },
 "nbformat": 4,
 "nbformat_minor": 2
}
