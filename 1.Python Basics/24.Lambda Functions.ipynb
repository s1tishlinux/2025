{
 "cells": [
  {
   "cell_type": "code",
   "execution_count": null,
   "metadata": {},
   "outputs": [],
   "source": [
    "##Lambda Functions and Map/Filter/Reduce\n",
    "# Lambda functions\n",
    "square = lambda x: x**2\n",
    "print(square(5))  # Output: 25\n",
    "\n",
    "# Map\n",
    "numbers = [1, 2, 3, 4, 5]\n",
    "squared = list(map(lambda x: x**2, numbers))\n",
    "print(squared)  # Output: [1, 4, 9, 16, 25]\n",
    "\n",
    "# Filter\n",
    "even_numbers = list(filter(lambda x: x % 2 == 0, numbers))\n",
    "print(even_numbers)  # Output: [2, 4]\n",
    "\n",
    "# Reduce\n",
    "from functools import reduce\n",
    "sum_all = reduce(lambda x, y: x + y, numbers)\n",
    "print(sum_all)  # Output: 15\n",
    "\n",
    "\n"
   ]
  }
 ],
 "metadata": {
  "kernelspec": {
   "display_name": "Python 3",
   "language": "python",
   "name": "python3"
  },
  "language_info": {
   "name": "python",
   "version": "3.13.1"
  }
 },
 "nbformat": 4,
 "nbformat_minor": 2
}
