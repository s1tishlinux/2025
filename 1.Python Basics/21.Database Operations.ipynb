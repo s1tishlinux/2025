{
 "cells": [
  {
   "cell_type": "code",
   "execution_count": null,
   "metadata": {},
   "outputs": [],
   "source": [
    "##Database Operations\n",
    "import sqlite3\n",
    "\n",
    "class DatabaseManager:\n",
    "    def __init__(self, db_name):\n",
    "        self.conn = sqlite3.connect(db_name)\n",
    "        self.cursor = self.conn.cursor()\n",
    "\n",
    "    def create_table(self):\n",
    "        self.cursor.execute('''\n",
    "            CREATE TABLE IF NOT EXISTS users (\n",
    "                id INTEGER PRIMARY KEY,\n",
    "                name TEXT NOT NULL,\n",
    "                email TEXT UNIQUE\n",
    "            )\n",
    "        ''')\n",
    "        self.conn.commit()\n",
    "\n",
    "    def insert_user(self, name, email):\n",
    "        try:\n",
    "            self.cursor.execute('''\n",
    "                INSERT INTO users (name, email) VALUES (?, ?)\n",
    "            ''', (name, email))\n",
    "            self.conn.commit()\n",
    "            return True\n",
    "        except sqlite3.IntegrityError:\n",
    "            return False\n",
    "\n",
    "    def close(self):\n",
    "        self.conn.close()\n",
    "\n",
    "\n"
   ]
  }
 ],
 "metadata": {
  "kernelspec": {
   "display_name": "Python 3",
   "language": "python",
   "name": "python3"
  },
  "language_info": {
   "name": "python",
   "version": "3.13.1"
  }
 },
 "nbformat": 4,
 "nbformat_minor": 2
}
