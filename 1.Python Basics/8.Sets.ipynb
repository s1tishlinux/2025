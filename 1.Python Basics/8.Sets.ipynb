{
 "cells": [
  {
   "cell_type": "code",
   "execution_count": null,
   "metadata": {},
   "outputs": [],
   "source": [
    "# Creating sets\n",
    "fruits = {\"apple\", \"banana\", \"orange\"}\n",
    "vegetables = {\"carrot\", \"lettuce\", \"tomato\"}\n",
    "\n",
    "# Set operations\n",
    "numbers1 = {1, 2, 3, 4, 5}\n",
    "numbers2 = {4, 5, 6, 7, 8}\n",
    "\n",
    "# Union\n",
    "print(numbers1 | numbers2)  # or numbers1.union(numbers2)\n",
    "\n",
    "# Intersection\n",
    "print(numbers1 & numbers2)  # or numbers1.intersection(numbers2)\n",
    "\n",
    "# Difference\n",
    "print(numbers1 - numbers2)  # or numbers1.difference(numbers2)\n",
    "\n",
    "# Add and remove items\n",
    "fruits.add(\"grape\")\n",
    "fruits.remove(\"banana\")\n"
   ]
  }
 ],
 "metadata": {
  "kernelspec": {
   "display_name": "Python 3",
   "language": "python",
   "name": "python3"
  },
  "language_info": {
   "name": "python",
   "version": "3.13.1"
  }
 },
 "nbformat": 4,
 "nbformat_minor": 2
}
