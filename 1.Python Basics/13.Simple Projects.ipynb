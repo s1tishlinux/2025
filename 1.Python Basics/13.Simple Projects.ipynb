{
 "cells": [
  {
   "cell_type": "code",
   "execution_count": null,
   "metadata": {},
   "outputs": [],
   "source": [
    "# Todo List Application\n",
    "class TodoList:\n",
    "    def __init__(self):\n",
    "        self.tasks = []\n",
    "\n",
    "    def add_task(self, task):\n",
    "        self.tasks.append({\"task\": task, \"completed\": False})\n",
    "\n",
    "    def mark_completed(self, index):\n",
    "        if 0 <= index < len(self.tasks):\n",
    "            self.tasks[index][\"completed\"] = True\n",
    "\n",
    "    def display_tasks(self):\n",
    "        for i, task in enumerate(self.tasks):\n",
    "            status = \"✓\" if task[\"completed\"] else \" \"\n",
    "            print(f\"{i}. [{status}] {task['task']}\")\n",
    "\n",
    "# Usage\n",
    "todo = TodoList()\n",
    "todo.add_task(\"Learn Python\")\n",
    "todo.add_task(\"Build a project\")\n",
    "todo.mark_completed(0)\n",
    "todo.display_tasks()\n"
   ]
  },
  {
   "cell_type": "code",
   "execution_count": null,
   "metadata": {},
   "outputs": [
    {
     "name": "stdout",
     "output_type": "stream",
     "text": [
      "B method\n",
      "(<class '__main__.D'>, <class '__main__.B'>, <class '__main__.C'>, <class '__main__.A'>, <class 'object'>)\n",
      "True\n",
      "True\n",
      "True\n",
      "Shows which method implementation will be used\n",
      "<bound method B.method of <__main__.D object at 0x104cbe270>>\n"
     ]
    }
   ],
   "source": [
    "class A:\n",
    "    def method(self):\n",
    "        print(\"A method\")\n",
    "class B(A):\n",
    "    def method(self):\n",
    "        print(\"B method\")\n",
    "class C(A):\n",
    "    def method(self):\n",
    "        print(\"C method\")\n",
    "class D(B,C):\n",
    "        #C.method(self)\n",
    "        #B.method(self)\n",
    "        #A.method(self)\n",
    "\n",
    "    pass\n",
    "d = D()\n",
    "d.method()\n",
    "\n",
    "print(D.__mro__)\n",
    "\n",
    "\n",
    "#Or check if class is in the MRO\n",
    "print(C in D.__mro__)\n",
    "print(B in D.__mro__)\n",
    "print(issubclass(D, A))\n",
    "\n",
    "\n",
    "print(\"Shows which method implementation will be used\")\n",
    "print(D.__getattribute__(d, 'method'))  # Shows which method implementation will be used\n",
    "\n",
    "\n"
   ]
  }
 ],
 "metadata": {
  "kernelspec": {
   "display_name": "Python 3",
   "language": "python",
   "name": "python3"
  },
  "language_info": {
   "name": "python",
   "version": "3.13.1"
  }
 },
 "nbformat": 4,
 "nbformat_minor": 2
}
