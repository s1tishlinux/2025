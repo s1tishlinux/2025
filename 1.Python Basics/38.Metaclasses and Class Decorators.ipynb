{
 "cells": [
  {
   "cell_type": "code",
   "execution_count": null,
   "metadata": {},
   "outputs": [],
   "source": [
    "##Metaclasses and Class Decorators\n",
    "# Metaclass example\n",
    "class MetaLogger(type):\n",
    "    def __new__(cls, name, bases, attrs):\n",
    "        # Add logging to all methods\n",
    "        for key, value in attrs.items():\n",
    "            if callable(value):\n",
    "                attrs[key] = cls.log_call(value)\n",
    "        return super().__new__(cls, name, bases, attrs)\n",
    "\n",
    "    @staticmethod\n",
    "    def log_call(func):\n",
    "        def wrapper(*args, **kwargs):\n",
    "            print(f\"Calling {func.__name__}\")\n",
    "            result = func(*args, **kwargs)\n",
    "            print(f\"Finished {func.__name__}\")\n",
    "            return result\n",
    "        return wrapper\n",
    "\n",
    "class MyClass(metaclass=MetaLogger):\n",
    "    def some_method(self):\n",
    "        print(\"Method execution\")\n"
   ]
  }
 ],
 "metadata": {
  "kernelspec": {
   "display_name": "Python 3",
   "language": "python",
   "name": "python3"
  },
  "language_info": {
   "name": "python",
   "version": "3.13.1"
  }
 },
 "nbformat": 4,
 "nbformat_minor": 2
}
