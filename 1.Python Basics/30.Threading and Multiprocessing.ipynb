{
 "cells": [
  {
   "cell_type": "code",
   "execution_count": null,
   "metadata": {},
   "outputs": [],
   "source": [
    "##Threading and Multiprocessing\n",
    "import threading\n",
    "import multiprocessing\n",
    "import time\n",
    "\n",
    "# Threading example\n",
    "def worker(thread_num):\n",
    "    print(f\"Thread {thread_num} starting\")\n",
    "    time.sleep(2)\n",
    "    print(f\"Thread {thread_num} finished\")\n",
    "\n",
    "threads = []\n",
    "for i in range(3):\n",
    "    t = threading.Thread(target=worker, args=(i,))\n",
    "    threads.append(t)\n",
    "    t.start()\n",
    "\n",
    "# Multiprocessing example\n",
    "def process_worker(num):\n",
    "    print(f\"Process {num} starting\")\n",
    "    time.sleep(2)\n",
    "    print(f\"Process {num} finished\")\n",
    "\n",
    "if __name__ == '__main__':\n",
    "    processes = []\n",
    "    for i in range(3):\n",
    "        p = multiprocessing.Process(target=process_worker, args=(i,))\n",
    "        processes.append(p)\n",
    "        p.start()\n"
   ]
  }
 ],
 "metadata": {
  "kernelspec": {
   "display_name": "Python 3",
   "language": "python",
   "name": "python3"
  },
  "language_info": {
   "name": "python",
   "version": "3.13.1"
  }
 },
 "nbformat": 4,
 "nbformat_minor": 2
}
