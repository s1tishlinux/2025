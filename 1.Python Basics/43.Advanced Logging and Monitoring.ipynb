{
 "cells": [
  {
   "cell_type": "code",
   "execution_count": null,
   "metadata": {},
   "outputs": [],
   "source": [
    "##Advanced Logging and Monitoring\n",
    "import logging\n",
    "from logging.handlers import RotatingFileHandler\n",
    "import time\n",
    "from functools import wraps\n",
    "\n",
    "class ApplicationLogger:\n",
    "    def __init__(self, log_file='app.log'):\n",
    "        self.logger = logging.getLogger('ApplicationLogger')\n",
    "        self.logger.setLevel(logging.INFO)\n",
    "        \n",
    "        handler = RotatingFileHandler(\n",
    "            log_file, maxBytes=1024*1024, backupCount=5)\n",
    "        formatter = logging.Formatter(\n",
    "            '%(asctime)s - %(name)s - %(levelname)s - %(message)s')\n",
    "        handler.setFormatter(formatter)\n",
    "        \n",
    "        self.logger.addHandler(handler)\n",
    "\n",
    "    def log_execution_time(self, func):\n",
    "        @wraps(func)\n",
    "        def wrapper(*args, **kwargs):\n",
    "            start_time = time.time()\n",
    "            result = func(*args, **kwargs)\n",
    "            end_time = time.time()\n",
    "            \n",
    "            self.logger.info(\n",
    "                f\"{func.__name__} took {end_time - start_time:.2f} seconds\")\n",
    "            return result\n",
    "        return wrapper\n",
    "\n",
    "    def log_exceptions(self, func):\n",
    "        @wraps(func)\n",
    "        def wrapper(*args, **kwargs):\n",
    "            try:\n",
    "                return func(*args, **kwargs)\n",
    "            except Exception as e:\n",
    "                self.logger.error(\n",
    "                    f\"Exception in {func.__name__}: {str(e)}\", \n",
    "                    exc_info=True)\n",
    "                raise\n",
    "        return wrapper\n"
   ]
  }
 ],
 "metadata": {
  "kernelspec": {
   "display_name": "Python 3",
   "language": "python",
   "name": "python3"
  },
  "language_info": {
   "name": "python",
   "version": "3.13.1"
  }
 },
 "nbformat": 4,
 "nbformat_minor": 2
}
