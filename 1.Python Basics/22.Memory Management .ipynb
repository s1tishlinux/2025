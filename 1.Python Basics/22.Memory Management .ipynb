{
 "cells": [
  {
   "cell_type": "markdown",
   "metadata": {},
   "source": [
    "Memory Allocation:\n",
    "\t•\tPython handles memory allocation automatically for objects created during runtime.\n",
    "\t•\tThere are two parts:\n",
    "\t•\tStack Memory: Stores function calls and references to objects.\n",
    "\t•\tHeap Memory: Stores actual objects and data.\n",
    "\t2.\tGarbage Collection:\n",
    "\t•\tPython uses a garbage collector to free up unused memory.\n",
    "\t•\tGarbage collection works based on reference counting.\n",
    "\t3.\tReference Counting:\n",
    "\t•\tEvery object has a reference count. When the reference count drops to zero, the object is deleted."
   ]
  },
  {
   "cell_type": "code",
   "execution_count": null,
   "metadata": {},
   "outputs": [],
   "source": [
    "a = [1, 2, 3]  # Reference count is 1\n",
    "b = a           # Reference count is 2\n",
    "del a           # Reference count is 1\n",
    "del b           # Reference count is 0, object is garbage collected"
   ]
  },
  {
   "cell_type": "markdown",
   "metadata": {},
   "source": [
    "\t4.\tCircular References:\n",
    "\t•\tCircular references occur when two or more objects reference each other, preventing their reference count from reaching zero."
   ]
  },
  {
   "cell_type": "code",
   "execution_count": null,
   "metadata": {},
   "outputs": [],
   "source": [
    "class Node:\n",
    "    def __init__(self, value):\n",
    "        self.value = value\n",
    "        self.ref = None\n",
    "\n",
    "a = Node(1)\n",
    "b = Node(2)\n",
    "a.ref = b\n",
    "b.ref = a\n",
    "del a\n",
    "del b  # Circular reference, won't be garbage collected unless explicitly handled"
   ]
  },
  {
   "cell_type": "markdown",
   "metadata": {},
   "source": [
    "5.\tgc Module:\n",
    "\t•\tPython provides a gc module to manage garbage collection manually."
   ]
  },
  {
   "cell_type": "code",
   "execution_count": null,
   "metadata": {},
   "outputs": [],
   "source": [
    "import gc\n",
    "\n",
    "gc.collect()  # Force garbage collection"
   ]
  },
  {
   "cell_type": "markdown",
   "metadata": {},
   "source": [
    "Example"
   ]
  },
  {
   "cell_type": "code",
   "execution_count": null,
   "metadata": {},
   "outputs": [],
   "source": [
    "import gc\n",
    "\n",
    "# Manual garbage collection\n",
    "class MyClass:\n",
    "    def __init__(self, name):\n",
    "        self.name = name\n",
    "\n",
    "obj1 = MyClass(\"Object1\")\n",
    "obj2 = MyClass(\"Object2\")\n",
    "\n",
    "# Creating circular reference\n",
    "obj1.ref = obj2\n",
    "obj2.ref = obj1\n",
    "\n",
    "# Deleting references\n",
    "del obj1\n",
    "del obj2\n",
    "\n",
    "# Forcing garbage collection\n",
    "print(\"Before garbage collection:\")\n",
    "print(gc.collect())  # Collect garbage, output will show number of objects collected\n",
    "print(\"Garbage collection complete!\")"
   ]
  }
 ],
 "metadata": {
  "kernelspec": {
   "display_name": "Python 3",
   "language": "python",
   "name": "python3"
  },
  "language_info": {
   "name": "python",
   "version": "3.13.1"
  }
 },
 "nbformat": 4,
 "nbformat_minor": 2
}
