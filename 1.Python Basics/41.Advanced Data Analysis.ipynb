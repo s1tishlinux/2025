{
 "cells": [
  {
   "cell_type": "code",
   "execution_count": null,
   "metadata": {},
   "outputs": [],
   "source": [
    "import pandas as pd\n",
    "import numpy as np\n",
    "from sklearn.model_selection import train_test_split\n",
    "from sklearn.preprocessing import StandardScaler\n",
    "\n",
    "class DataAnalyzer:\n",
    "    def __init__(self, data_path):\n",
    "        self.data = pd.read_csv(data_path)\n",
    "        self.preprocessed_data = None\n",
    "        self.scaler = StandardScaler()\n",
    "\n",
    "    def preprocess(self):\n",
    "        # Handle missing values\n",
    "        self.data = self.data.fillna(self.data.mean())\n",
    "        \n",
    "        # Remove duplicates\n",
    "        self.data = self.data.drop_duplicates()\n",
    "        \n",
    "        # Scale numerical features\n",
    "        numerical_cols = self.data.select_dtypes(include=[np.number]).columns\n",
    "        self.data[numerical_cols] = self.scaler.fit_transform(\n",
    "            self.data[numerical_cols])\n",
    "        \n",
    "        return self.data\n",
    "\n",
    "    def split_data(self, target_column, test_size=0.2):\n",
    "        X = self.data.drop(target_column, axis=1)\n",
    "        y = self.data[target_column]\n",
    "        return train_test_split(X, y, test_size=test_size, random_state=42)\n"
   ]
  }
 ],
 "metadata": {
  "kernelspec": {
   "display_name": "Python 3",
   "language": "python",
   "name": "python3"
  },
  "language_info": {
   "name": "python",
   "version": "3.13.1"
  }
 },
 "nbformat": 4,
 "nbformat_minor": 2
}
