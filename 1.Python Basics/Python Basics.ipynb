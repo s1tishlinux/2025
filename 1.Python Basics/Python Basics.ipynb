{
 "cells": [
  {
   "cell_type": "markdown",
   "metadata": {},
   "source": [
    "Methods:\n",
    "1.Instance Method (Most Basic and Common):\n",
    "\n",
    "# lst.remove(1)         # Remove first occurrence\n",
    "# lst.pop()            # Remove and return last element\n",
    "# lst.sort()           # Sort in place\n",
    "# lst.reverse()        # Reverse in place\n",
    "# lst.index(2)         # Find index of element\n",
    "# lst.count(2)         # Count occurrences\n"
   ]
  },
  {
   "cell_type": "markdown",
   "metadata": {},
   "source": [
    "1.String Methods "
   ]
  },
  {
   "cell_type": "code",
   "execution_count": 31,
   "metadata": {},
   "outputs": [
    {
     "name": "stdout",
     "output_type": "stream",
     "text": [
      "HELLO, WORLD\n",
      "hello, world\n",
      "Hello, World\n",
      "['Hello', ' World']\n",
      "Hellx, Wxrld\n",
      "True\n",
      "True\n"
     ]
    }
   ],
   "source": [
    "text = \"Hello, World\"\n",
    "print(text.upper())          # Convert to uppercase\n",
    "print(text.lower())          # Convert to lowercase\n",
    "print(text.strip())          # Remove whitespace from both ends\n",
    "print(text.split(','))      # Split string into list\n",
    "print(text.replace('o', 'x'))# Replace all occurrences\n",
    "print(text.startswith('H'))  # Check prefix\n",
    "print(text.endswith('d'))    # Check suffix\n"
   ]
  },
  {
   "cell_type": "markdown",
   "metadata": {},
   "source": [
    "*** List in Python ***\n",
    "\n",
    "What is a List in Python?\n",
    "A list in Python is a built-in data structure that allows you to store multiple items in one place. You can think of it as a container that holds different kinds of data, like numbers, strings, or even other lists!"
   ]
  },
  {
   "cell_type": "markdown",
   "metadata": {},
   "source": []
  },
  {
   "cell_type": "code",
   "execution_count": 40,
   "metadata": {},
   "outputs": [
    {
     "name": "stdout",
     "output_type": "stream",
     "text": [
      "[1, 25, 3]\n"
     ]
    }
   ],
   "source": [
    "# An empty list\n",
    "my_list = []\n",
    "\n",
    "# A list with numbers\n",
    "numbers = [1, 2, 3, 4]\n",
    "\n",
    "# A list with strings\n",
    "names = [\"Alice\", \"Bob\", \"Charlie\"]\n",
    "\n",
    "# A mixed list\n",
    "mixed = [1, \"hello\", 3.5, True]\n",
    "\n",
    "my_list = [1, 2, 3]\n",
    "\n",
    "my_list[1] = 25  # Updates the second item to 25\n",
    "\n",
    "print(my_list)  # Output: [1, 25, 3]\n"
   ]
  },
  {
   "cell_type": "markdown",
   "metadata": {},
   "source": [
    "*** Key Features of a List ***\n",
    "* Ordered \n",
    "\n",
    "Items in a list maintain their position. The first item is at index 0, the second at index 1, and so on.\n",
    "\n",
    "* Mutable:\n",
    "\n",
    "You can change, add, or remove items after the list is created.\n",
    "\n",
    "* Allows Duplicates:\n",
    "\n",
    "Lists can have the same item repeated multiple times.\n",
    "\n",
    "* Can Store Different Data Types:\n",
    "\n",
    "A list can hold numbers, strings, or even a mix of data types.\n",
    "\n",
    "\n",
    "*** Append vs Extend in Python  What's the Difference? ***\n",
    "\n",
    "Here’s a real-world analogy:\n",
    "\n",
    "Imagine you have a grocery bag.\n",
    "If you append(), you’re adding the whole bag to your collection as-is.\n",
    "If you extend(), you’re opening the bag and adding each item from it to your collection."
   ]
  },
  {
   "cell_type": "code",
   "execution_count": 42,
   "metadata": {},
   "outputs": [
    {
     "name": "stdout",
     "output_type": "stream",
     "text": [
      "[1, 2, 3]\n",
      "[1, 2, 3, 4]\n",
      "[1, 2, 3, 4, 5, 6]\n"
     ]
    }
   ],
   "source": [
    "lst = [1, 2, 3]\n",
    "print(lst)\n",
    "\n",
    "(lst.append(4))        # Add element at end\n",
    "print(lst)\n",
    "\n",
    "\n",
    "lst.extend([5, 6])    # Add multiple elements\n",
    "print(lst)\n",
    "\n",
    "# lst.insert(0, 0)      # Insert at specific index\n",
    "\n"
   ]
  },
  {
   "cell_type": "markdown",
   "metadata": {},
   "source": [
    "1.What does append() do?\n",
    "Think of append() as adding one thing to the end of your list.\n",
    "It could be a number, a string, or even another list—but it treats the entire thing as one single item.\n",
    "\n",
    "Key Takeaway:\n",
    "append() adds just one item to the list—whatever you give it."
   ]
  },
  {
   "cell_type": "code",
   "execution_count": 41,
   "metadata": {},
   "outputs": [
    {
     "name": "stdout",
     "output_type": "stream",
     "text": [
      "[1, 2, 3, 4]\n",
      "[1, 2, 3, 4, [5, 6]]\n",
      "[5, 6]\n"
     ]
    }
   ],
   "source": [
    "# Append Example\n",
    "my_list = [1, 2, 3]\n",
    "my_list.append(4)  # Adds a single number\n",
    "print(my_list)  # Output: [1, 2, 3, 4]\n",
    "\n",
    "my_list.append([5, 6])  # Adds a whole list as one item\n",
    "print(my_list)  # Output: [1, 2, 3, 4, [5, 6]]\n",
    "print(my_list[4])  # Output: [5, 6]"
   ]
  },
  {
   "cell_type": "markdown",
   "metadata": {},
   "source": [
    "2. What does extend() do?\n",
    "Now, extend() is like unpacking a bag of items and adding each one to the list individually.\n",
    "It’s perfect when you want to add multiple items from another list, string, or any iterable\n",
    "\n",
    "Key Takeaway:\n",
    "extend() spreads out the items and adds them one by one to the list."
   ]
  },
  {
   "cell_type": "code",
   "execution_count": 29,
   "metadata": {},
   "outputs": [
    {
     "name": "stdout",
     "output_type": "stream",
     "text": [
      "[1, 2, 3, 4, 5, 6]\n",
      "[1, 2, 3, 4, 5, 6, 'A', 'B']\n"
     ]
    }
   ],
   "source": [
    "my_list = [1, 2, 3]\n",
    "my_list.extend([4, 5, 6])  # Adds each number from the new list\n",
    "print(my_list)  # Output: [1, 2, 3, 4, 5, 6]\n",
    "\n",
    "my_list.extend(\"AB\")  # Adds each character of the string\n",
    "print(my_list)  # Output: [1, 2, 3, 4, 5, 6, 'A', 'B']\n"
   ]
  },
  {
   "cell_type": "markdown",
   "metadata": {},
   "source": [
    "Side-by-Side Comparison\n",
    "Feature\t                append()\t                    extend()\n",
    "Adds a single item\t    Yes\t                            No\n",
    "Adds multiple items\t    No (unless nested as a list)\tYes (spreads items individually)\n",
    "Creates nested lists\tYes (if a list is appended)\t    No\n"
   ]
  },
  {
   "cell_type": "markdown",
   "metadata": {},
   "source": [
    "Here’s a real-world analogy:\n",
    "\n",
    "Imagine you have a grocery bag.\n",
    "If you append(), you’re adding the whole bag to your collection as-is.\n",
    "If you extend(), you’re opening the bag and adding each item from it to your collection."
   ]
  },
  {
   "cell_type": "code",
   "execution_count": 7,
   "metadata": {},
   "outputs": [
    {
     "name": "stdout",
     "output_type": "stream",
     "text": [
      "Hello, World!\n"
     ]
    }
   ],
   "source": [
    "# Python Basics Practice Examples with Interview Questions\n",
    "\n",
    "# Example 1: Hello, World!\n",
    "def hello_world():\n",
    "    print(\"Hello, World!\")  # Output: Hello, World!\n",
    "\n",
    "# Call the function\n",
    "hello_world()"
   ]
  },
  {
   "cell_type": "code",
   "execution_count": 3,
   "metadata": {},
   "outputs": [
    {
     "name": "stdout",
     "output_type": "stream",
     "text": [
      "Hello, World!\n"
     ]
    }
   ],
   "source": [
    "def hello_world():\n",
    "    print(\"Hello, World!\")\n",
    "\n",
    "hello_world() # Hello, World!"
   ]
  },
  {
   "cell_type": "code",
   "execution_count": null,
   "metadata": {},
   "outputs": [
    {
     "name": "stdout",
     "output_type": "stream",
     "text": [
      "Name: Satish, Age: 30, Active: True\n"
     ]
    }
   ],
   "source": [
    "# Example 2: Variables and Data Types\n",
    "def variables_example():\n",
    "    name = \"Ram\"\n",
    "    age = 30\n",
    "    is_active = True\n",
    "    print(f\"Name: {name}, Age: {age}, Active: {is_active}\")  # Output: Name:Ram , Age: 30, Active: True\n",
    "\n",
    "variables_example()"
   ]
  },
  {
   "cell_type": "code",
   "execution_count": 6,
   "metadata": {},
   "outputs": [
    {
     "name": "stdout",
     "output_type": "stream",
     "text": [
      "5658436984 is even.\n"
     ]
    }
   ],
   "source": [
    "# Example 3: If-Else Statement(even or odd number)\n",
    "def if_else_example():\n",
    "    number = 5658436984\n",
    "    if number % 2 == 0:\n",
    "        print(f\"{number} is even.\")  # Output: 10 is even.\n",
    "    else:\n",
    "        print(f\"{number} is odd.\")\n",
    "\n",
    "if_else_example()"
   ]
  },
  {
   "cell_type": "code",
   "execution_count": null,
   "metadata": {},
   "outputs": [],
   "source": [
    "# Example 4: Loops\n",
    "def loops_example():\n",
    "    for i in range(1, 6):\n",
    "        print(f\"Iteration {i}\")  # Output: Iteration 1, Iteration 2, ..., Iteration 5\n",
    "\n",
    "loops_example()"
   ]
  },
  {
   "cell_type": "code",
   "execution_count": null,
   "metadata": {},
   "outputs": [],
   "source": [
    "# Example 5: Functions with Parameters and Return Values\n",
    "def add_numbers(a, b):\n",
    "    return a + b\n",
    "\n",
    "result = add_numbers(10, 15)\n",
    "print(f\"Sum: {result}\")  # Output: Sum: 25"
   ]
  },
  {
   "cell_type": "code",
   "execution_count": null,
   "metadata": {},
   "outputs": [],
   "source": [
    "# Example 6: Lists and Loops\n",
    "def list_example():\n",
    "    fruits = [\"apple\", \"banana\", \"cherry\"]\n",
    "    for i in fruits:\n",
    "        print(f\"Fruit: {i}\")  # Output: Fruit: apple, Fruit: banana, Fruit: cherry\n",
    "\n",
    "list_example()"
   ]
  },
  {
   "cell_type": "code",
   "execution_count": null,
   "metadata": {},
   "outputs": [],
   "source": [
    "# Example 7: Dictionaries and Accessing Values\n",
    "def dictionary_example():\n",
    "    person = {\"name\": \"Satish\", \"age\": 25, \"city\": \"Hyderabad\"}\n",
    "\n",
    "    # Accessing values with []\n",
    "    print(f\"Name: {person['name']}, Age: {person['age']}, City: {person['city']}\")  # Output: Name: Satish, Age: 25, City: Hyderabad\n",
    "\n",
    "    # Accessing values safely with .get()\n",
    "    name = person.get(\"name\", \"Default Value\")\n",
    "    print(f\"Name using .get(): {name}\")  # Output: Name using .get(): Satish\n",
    "\n",
    "    # Example demonstrating indexing vs function calls\n",
    "    print(\"--- Indexing vs Function Calls ---\")\n",
    "    # Indexing\n",
    "    city = person[\"city\"]\n",
    "    print(f\"City (Indexing): {city}\")  # Output: City (Indexing): Hyderabad\n",
    "\n",
    "    # Function Call\n",
    "    def get_city():\n",
    "        return person.get(\"city\")\n",
    "    print(f\"City (Function Call): {get_city()}\")  # Output: City (Function Call): Hyderabad\n",
    "\n",
    "dictionary_example()"
   ]
  },
  {
   "cell_type": "code",
   "execution_count": null,
   "metadata": {},
   "outputs": [],
   "source": [
    "# Example 8: Error Handling\n",
    "def error_handling_example():\n",
    "    try:\n",
    "        result = 10 / 0\n",
    "    except ZeroDivisionError as e:\n",
    "        print(f\"Error: {e}\")  # Output: Error: division by zero\n",
    "\n",
    "error_handling_example()\n"
   ]
  },
  {
   "cell_type": "code",
   "execution_count": null,
   "metadata": {},
   "outputs": [],
   "source": [
    "# Python Interview Questions with Examples\n",
    "\n",
    "# Q1: How do you check if a number is a prime number?\n",
    "def is_prime(n):\n",
    "    if n <= 1:\n",
    "        return False\n",
    "    for i in range(2, int(n ** 0.5) + 1):\n",
    "        if n % i == 0:\n",
    "            return False\n",
    "    return True\n",
    "\n",
    "print(f\"Is 17 prime? {is_prime(17)}\")  # Output: Is 17 prime? True\n",
    "\n",
    "# Q2: Explain Python's polymorphism with an example.\n",
    "class Bird:\n",
    "    def sound(self):\n",
    "        print(\"Some generic bird sound\")\n",
    "\n",
    "class Sparrow(Bird):\n",
    "    def sound(self):\n",
    "        print(\"Chirp Chirp\")\n",
    "\n",
    "class Crow(Bird):\n",
    "    def sound(self):\n",
    "        print(\"Caw Caw\")\n",
    "\n",
    "# Demonstrate polymorphism\n",
    "birds = [Sparrow(), Crow(), Bird()]\n",
    "for bird in birds:\n",
    "    bird.sound()\n",
    "    # Output: \n",
    "    # Chirp Chirp\n",
    "    # Caw Caw\n",
    "    # Some generic bird sound\n",
    "\n",
    "# Q3: How can you reverse a string in Python?\n",
    "def reverse_string(s):\n",
    "    return s[::-1]\n",
    "\n",
    "print(f\"Reverse of 'Python' is '{reverse_string('Python')}'\")  # Output: Reverse of 'Python' is 'nohtyP'\n",
    "\n",
    "# Q4: Write a program to find the factorial of a number.\n",
    "def factorial(n):\n",
    "    if n == 0 or n == 1:\n",
    "        return 1\n",
    "    else:\n",
    "        return n * factorial(n - 1)\n",
    "\n",
    "print(f\"Factorial of 5 is {factorial(5)}\")  # Output: Factorial of 5 is 120\n",
    "\n",
    "# Q5: How do you handle file operations in Python?\n",
    "def file_operations():\n",
    "    with open(\"example.txt\", \"w\") as f:\n",
    "        f.write(\"Hello, File!\")\n",
    "    with open(\"example.txt\", \"r\") as f:\n",
    "        content = f.read()\n",
    "        print(f\"File content: {content}\")  # Output: File content: Hello, File!\n",
    "\n",
    "file_operations()\n"
   ]
  }
 ],
 "metadata": {
  "kernelspec": {
   "display_name": "Python 3",
   "language": "python",
   "name": "python3"
  },
  "language_info": {
   "codemirror_mode": {
    "name": "ipython",
    "version": 3
   },
   "file_extension": ".py",
   "mimetype": "text/x-python",
   "name": "python",
   "nbconvert_exporter": "python",
   "pygments_lexer": "ipython3",
   "version": "3.13.1"
  }
 },
 "nbformat": 4,
 "nbformat_minor": 2
}
