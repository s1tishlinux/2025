{
 "cells": [
  {
   "cell_type": "code",
   "execution_count": null,
   "metadata": {},
   "outputs": [],
   "source": [
    "##Memory Management and Optimization\n",
    "import sys\n",
    "import gc\n",
    "\n",
    "# Memory usage of objects\n",
    "x = \"Hello\"\n",
    "print(sys.getsizeof(x))\n",
    "\n",
    "# Garbage collection\n",
    "gc.collect()\n",
    "\n",
    "# Using slots to reduce memory usage\n",
    "class Person:\n",
    "    __slots__ = ['name', 'age']\n",
    "    \n",
    "    def __init__(self, name, age):\n",
    "        self.name = name\n",
    "        self.age = age\n",
    "\n",
    "# Memory profiling\n",
    "from memory_profiler import profile\n",
    "\n",
    "@profile\n",
    "def memory_heavy_function():\n",
    "    big_list = [i for i in range(1000000)]\n",
    "    return sum(big_list)\n"
   ]
  }
 ],
 "metadata": {
  "kernelspec": {
   "display_name": "Python 3",
   "language": "python",
   "name": "python3"
  },
  "language_info": {
   "name": "python",
   "version": "3.13.1"
  }
 },
 "nbformat": 4,
 "nbformat_minor": 2
}
