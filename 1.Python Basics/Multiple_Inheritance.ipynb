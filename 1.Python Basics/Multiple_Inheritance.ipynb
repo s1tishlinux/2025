{
 "cells": [
  {
   "cell_type": "code",
   "execution_count": null,
   "metadata": {},
   "outputs": [],
   "source": [
    "class A:\n",
    "    def method(self):\n",
    "        print(\"A method\")\n",
    "class B(A):\n",
    "    def method(self):\n",
    "        print(\"B method\")\n",
    "class C(A):\n",
    "    def method(self):\n",
    "        print(\"C method\")\n",
    "class D(B,C):\n",
    "        #C.method(self)\n",
    "        #B.method(self)\n",
    "        #A.method(self)\n",
    "\n",
    "    pass\n",
    "d = D()\n",
    "d.method()\n",
    "\n",
    "print(D.__mro__)\n",
    "\n",
    "\n",
    "#Or check if class is in the MRO\n",
    "print(C in D.__mro__)\n",
    "print(B in D.__mro__)\n",
    "print(issubclass(D, A))\n",
    "\n",
    "\n",
    "print(\"Shows which method implementation will be used\")\n",
    "print(D.__getattribute__(d, 'method'))  # Shows which method implementation will be used\n",
    "\n",
    "\n"
   ]
  },
  {
   "cell_type": "code",
   "execution_count": null,
   "metadata": {},
   "outputs": [],
   "source": []
  }
 ],
 "metadata": {
  "kernelspec": {
   "display_name": "Python 3",
   "language": "python",
   "name": "python3"
  },
  "language_info": {
   "name": "python",
   "version": "3.13.1"
  }
 },
 "nbformat": 4,
 "nbformat_minor": 2
}
