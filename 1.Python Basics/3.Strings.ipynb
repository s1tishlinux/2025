{
 "cells": [
  {
   "cell_type": "code",
   "execution_count": 2,
   "metadata": {},
   "outputs": [
    {
     "name": "stdout",
     "output_type": "stream",
     "text": [
      "20\n",
      "HELLO PYTHON WELCOME\n",
      "hello python welcome\n",
      "H\n",
      "e\n",
      "Hello P\n"
     ]
    }
   ],
   "source": [
    "# String operations\n",
    "message = \"Hello Python Welcome\"\n",
    "print(len(message))         # Length\n",
    "print(message.upper())      # Uppercase\n",
    "print(message.lower())      # Lowercase\n",
    "print(message[0])          # First character\n",
    "print(message[-1])         # Last character\n",
    "print(message[0:7])        # Slicing\n"
   ]
  }
 ],
 "metadata": {
  "kernelspec": {
   "display_name": "Python 3",
   "language": "python",
   "name": "python3"
  },
  "language_info": {
   "codemirror_mode": {
    "name": "ipython",
    "version": 3
   },
   "file_extension": ".py",
   "mimetype": "text/x-python",
   "name": "python",
   "nbconvert_exporter": "python",
   "pygments_lexer": "ipython3",
   "version": "3.13.1"
  }
 },
 "nbformat": 4,
 "nbformat_minor": 2
}
