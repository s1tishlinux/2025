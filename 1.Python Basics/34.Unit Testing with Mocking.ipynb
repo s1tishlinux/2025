{
 "cells": [
  {
   "cell_type": "code",
   "execution_count": null,
   "metadata": {},
   "outputs": [],
   "source": [
    "##Unit Testing with Mocking\n",
    "import unittest\n",
    "from unittest.mock import Mock, patch\n",
    "\n",
    "class User:\n",
    "    def __init__(self, name):\n",
    "        self.name = name\n",
    "\n",
    "    def get_user_data(self):\n",
    "        # Assume this makes an API call\n",
    "        pass\n",
    "\n",
    "class TestUser(unittest.TestCase):\n",
    "    @patch('__main__.User.get_user_data')\n",
    "    def test_get_user_data(self, mock_get_data):\n",
    "        # Setup mock\n",
    "        mock_get_data.return_value = {'name': 'John', 'age': 30}\n",
    "        \n",
    "        # Test\n",
    "        user = User('John')\n",
    "        data = user.get_user_data()\n",
    "        \n",
    "        # Assert\n",
    "        self.assertEqual(data['name'], 'John')\n",
    "        mock_get_data.assert_called_once()\n"
   ]
  }
 ],
 "metadata": {
  "kernelspec": {
   "display_name": "Python 3",
   "language": "python",
   "name": "python3"
  },
  "language_info": {
   "name": "python",
   "version": "3.13.1"
  }
 },
 "nbformat": 4,
 "nbformat_minor": 2
}
