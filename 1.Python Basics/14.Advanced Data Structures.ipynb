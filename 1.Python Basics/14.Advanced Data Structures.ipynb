{
 "cells": [
  {
   "cell_type": "code",
   "execution_count": null,
   "metadata": {},
   "outputs": [],
   "source": [
    "# Collections module\n",
    "from collections import Counter, defaultdict, namedtuple, deque\n",
    "\n",
    "# Counter\n",
    "words = ['apple', 'banana', 'apple', 'orange']\n",
    "word_count = Counter(words)\n",
    "print(word_count)  # Counter({'apple': 2, 'banana': 1, 'orange': 1})\n",
    "\n",
    "# DefaultDict\n",
    "d = defaultdict(list)\n",
    "d['fruits'].append('apple')  # No KeyError if key doesn't exist\n",
    "\n",
    "# NamedTuple\n",
    "Person = namedtuple('Person', ['name', 'age', 'city'])\n",
    "person = Person('John', 30, 'New York')\n",
    "\n",
    "# Deque (Double-ended queue)\n",
    "queue = deque(['a', 'b', 'c'])\n",
    "queue.appendleft('d')\n",
    "queue.pop()\n"
   ]
  },
  {
   "cell_type": "code",
   "execution_count": null,
   "metadata": {},
   "outputs": [],
   "source": []
  }
 ],
 "metadata": {
  "kernelspec": {
   "display_name": "Python 3",
   "language": "python",
   "name": "python3"
  },
  "language_info": {
   "name": "python",
   "version": "3.13.1"
  }
 },
 "nbformat": 4,
 "nbformat_minor": 2
}
