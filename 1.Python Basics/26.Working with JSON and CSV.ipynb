{
 "cells": [
  {
   "cell_type": "code",
   "execution_count": null,
   "metadata": {},
   "outputs": [],
   "source": [
    "##Working with JSON and CSV\n",
    "import json\n",
    "import csv\n",
    "\n",
    "# JSON handling\n",
    "data = {\n",
    "    'name': 'John',\n",
    "    'age': 30,\n",
    "    'city': 'New York'\n",
    "}\n",
    "\n",
    "# Writing JSON\n",
    "with open('data.json', 'w') as f:\n",
    "    json.dump(data, f, indent=4)\n",
    "\n",
    "# Reading JSON\n",
    "with open('data.json', 'r') as f:\n",
    "    loaded_data = json.load(f)\n",
    "\n",
    "# CSV handling\n",
    "# Writing CSV\n",
    "with open('data.csv', 'w', newline='') as f:\n",
    "    writer = csv.writer(f)\n",
    "    writer.writerow(['Name', 'Age', 'City'])\n",
    "    writer.writerow(['John', 30, 'New York'])\n",
    "\n",
    "# Reading CSV\n",
    "with open('data.csv', 'r') as f:\n",
    "    reader = csv.reader(f)\n",
    "    for row in reader:\n",
    "        print(row)\n"
   ]
  }
 ],
 "metadata": {
  "kernelspec": {
   "display_name": "Python 3",
   "language": "python",
   "name": "python3"
  },
  "language_info": {
   "name": "python",
   "version": "3.13.1"
  }
 },
 "nbformat": 4,
 "nbformat_minor": 2
}
