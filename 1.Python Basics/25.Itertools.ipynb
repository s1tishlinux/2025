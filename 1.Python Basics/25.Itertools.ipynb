{
 "cells": [
  {
   "cell_type": "code",
   "execution_count": null,
   "metadata": {},
   "outputs": [],
   "source": [
    "import itertools\n",
    "\n",
    "# Infinite iterator\n",
    "count = itertools.count(start=1, step=2)\n",
    "print(next(count))  # Output: 1\n",
    "print(next(count))  # Output: 3\n",
    "\n",
    "# Permutations\n",
    "items = ['A', 'B', 'C']\n",
    "for perm in itertools.permutations(items):\n",
    "    print(perm)"
   ]
  }
 ],
 "metadata": {
  "kernelspec": {
   "display_name": "Python 3",
   "language": "python",
   "name": "python3"
  },
  "language_info": {
   "name": "python",
   "version": "3.13.1"
  }
 },
 "nbformat": 4,
 "nbformat_minor": 2
}
