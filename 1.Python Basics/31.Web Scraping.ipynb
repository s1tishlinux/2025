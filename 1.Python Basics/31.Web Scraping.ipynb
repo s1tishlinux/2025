{
 "cells": [
  {
   "cell_type": "code",
   "execution_count": null,
   "metadata": {},
   "outputs": [],
   "source": [
    "##Web Scraping\n",
    "import requests\n",
    "from bs4 import BeautifulSoup\n",
    "\n",
    "def scrape_website(url):\n",
    "    # Send request\n",
    "    response = requests.get(url)\n",
    "    \n",
    "    # Create BeautifulSoup object\n",
    "    soup = BeautifulSoup(response.text, 'html.parser')\n",
    "    \n",
    "    # Find elements\n",
    "    titles = soup.find_all('h1')\n",
    "    links = soup.find_all('a')\n",
    "    \n",
    "    # Extract data\n",
    "    for title in titles:\n",
    "        print(title.text)\n",
    "    \n",
    "    for link in links:\n",
    "        print(link.get('href'))\n"
   ]
  }
 ],
 "metadata": {
  "kernelspec": {
   "display_name": "Python 3",
   "language": "python",
   "name": "python3"
  },
  "language_info": {
   "name": "python",
   "version": "3.13.1"
  }
 },
 "nbformat": 4,
 "nbformat_minor": 2
}
