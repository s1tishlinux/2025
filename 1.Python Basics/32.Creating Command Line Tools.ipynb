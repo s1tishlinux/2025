{
 "cells": [
  {
   "cell_type": "code",
   "execution_count": 1,
   "metadata": {},
   "outputs": [
    {
     "name": "stderr",
     "output_type": "stream",
     "text": [
      "usage: ipykernel_launcher.py [-h] --name NAME [--count COUNT]\n",
      "ipykernel_launcher.py: error: the following arguments are required: --name\n"
     ]
    },
    {
     "ename": "SystemExit",
     "evalue": "2",
     "output_type": "error",
     "traceback": [
      "An exception has occurred, use %tb to see the full traceback.\n",
      "\u001b[0;31mSystemExit\u001b[0m\u001b[0;31m:\u001b[0m 2\n"
     ]
    },
    {
     "name": "stderr",
     "output_type": "stream",
     "text": [
      "/Users/satishgundu/Desktop/Satish/2.Practice Code/.venv/lib/python3.13/site-packages/IPython/core/interactiveshell.py:3585: UserWarning: To exit: use 'exit', 'quit', or Ctrl-D.\n",
      "  warn(\"To exit: use 'exit', 'quit', or Ctrl-D.\", stacklevel=1)\n"
     ]
    }
   ],
   "source": [
    "##Creating Command Line Tools\n",
    "import argparse\n",
    "\n",
    "def create_parser():\n",
    "    parser = argparse.ArgumentParser(description='Sample CLI tool')\n",
    "    parser.add_argument('--name', type=str, required=True, help='Your name')\n",
    "    parser.add_argument('--count', type=int, default=1, help='Number of greetings')\n",
    "    return parser\n",
    "\n",
    "def main():\n",
    "    parser = create_parser()\n",
    "    args = parser.parse_args()\n",
    "    \n",
    "    for _ in range(args.count):\n",
    "        print(f\"Hello, {args.name}!\")\n",
    "\n",
    "if __name__ == '__main__':\n",
    "    main()\n"
   ]
  }
 ],
 "metadata": {
  "kernelspec": {
   "display_name": "Python 3",
   "language": "python",
   "name": "python3"
  },
  "language_info": {
   "codemirror_mode": {
    "name": "ipython",
    "version": 3
   },
   "file_extension": ".py",
   "mimetype": "text/x-python",
   "name": "python",
   "nbconvert_exporter": "python",
   "pygments_lexer": "ipython3",
   "version": "3.13.1"
  }
 },
 "nbformat": 4,
 "nbformat_minor": 2
}
