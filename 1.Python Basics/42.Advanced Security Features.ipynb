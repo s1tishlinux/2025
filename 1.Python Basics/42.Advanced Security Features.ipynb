{
 "cells": [
  {
   "cell_type": "code",
   "execution_count": null,
   "metadata": {},
   "outputs": [],
   "source": [
    "##Advanced Security Features\n",
    "\n",
    "import hashlib\n",
    "import secrets\n",
    "from cryptography.fernet import Fernet\n",
    "from base64 import b64encode\n",
    "\n",
    "class SecurityManager:\n",
    "    def __init__(self):\n",
    "        self.key = Fernet.generate_key()\n",
    "        self.cipher_suite = Fernet(self.key)\n",
    "\n",
    "    def hash_password(self, password: str, salt: bytes = None) -> tuple:\n",
    "        if salt is None:\n",
    "            salt = secrets.token_bytes(32)\n",
    "        \n",
    "        hash_obj = hashlib.pbkdf2_hmac(\n",
    "            'sha256',\n",
    "            password.encode('utf-8'),\n",
    "            salt,\n",
    "            100000\n",
    "        )\n",
    "        return b64encode(hash_obj).decode('utf-8'), salt\n",
    "\n",
    "    def encrypt_data(self, data: str) -> bytes:\n",
    "        return self.cipher_suite.encrypt(data.encode())\n",
    "\n",
    "    def decrypt_data(self, encrypted_data: bytes) -> str:\n",
    "        return self.cipher_suite.decrypt(encrypted_data).decode()\n",
    "\n",
    "    def generate_token(self, length: int = 32) -> str:\n",
    "        return secrets.token_urlsafe(length)\n"
   ]
  }
 ],
 "metadata": {
  "kernelspec": {
   "display_name": "Python 3",
   "language": "python",
   "name": "python3"
  },
  "language_info": {
   "name": "python",
   "version": "3.13.1"
  }
 },
 "nbformat": 4,
 "nbformat_minor": 2
}
