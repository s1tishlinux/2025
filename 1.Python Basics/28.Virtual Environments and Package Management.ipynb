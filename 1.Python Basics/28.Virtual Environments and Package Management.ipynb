{
 "cells": [
  {
   "cell_type": "code",
   "execution_count": null,
   "metadata": {},
   "outputs": [],
   "source": [
    "##Virtual Environments and Package Management\n",
    "# Creating virtual environment\n",
    "python -m venv myenv\n",
    "\n",
    "# Activating virtual environment\n",
    "# Windows\n",
    "myenv\\Scripts\\activate\n",
    "# Unix/MacOS\n",
    "source myenv/bin/activate\n",
    "\n",
    "# Installing packages\n",
    "pip install package_name\n",
    "\n",
    "# Freezing requirements\n",
    "pip freeze > requirements.txt\n",
    "\n",
    "# Installing from requirements\n",
    "pip install -r requirements.txt\n"
   ]
  }
 ],
 "metadata": {
  "kernelspec": {
   "display_name": "Python 3",
   "language": "python",
   "name": "python3"
  },
  "language_info": {
   "name": "python",
   "version": "3.13.1"
  }
 },
 "nbformat": 4,
 "nbformat_minor": 2
}
