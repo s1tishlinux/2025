{
 "cells": [
  {
   "cell_type": "code",
   "execution_count": null,
   "metadata": {},
   "outputs": [],
   "source": [
    "# Creating a module (math_operations.py)\n",
    "def add(a, b):\n",
    "    return a + b\n",
    "\n",
    "def subtract(a, b):\n",
    "    return a - b\n",
    "\n",
    "# Using modules\n",
    "# In main.py\n",
    "import math_operations\n",
    "result = math_operations.add(5, 3)\n",
    "\n",
    "# Import specific functions\n",
    "from math_operations import add, subtract\n",
    "\n",
    "# Import with alias\n",
    "import math_operations as math\n",
    "result = math.add(5, 3)\n",
    "\n",
    "# Built-in modules\n",
    "import random\n",
    "import datetime\n",
    "import json\n"
   ]
  }
 ],
 "metadata": {
  "kernelspec": {
   "display_name": "Python 3",
   "language": "python",
   "name": "python3"
  },
  "language_info": {
   "name": "python",
   "version": "3.13.1"
  }
 },
 "nbformat": 4,
 "nbformat_minor": 2
}
