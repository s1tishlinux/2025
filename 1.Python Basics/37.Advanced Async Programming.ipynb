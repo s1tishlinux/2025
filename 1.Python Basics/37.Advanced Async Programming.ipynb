{
 "cells": [
  {
   "cell_type": "code",
   "execution_count": null,
   "metadata": {},
   "outputs": [],
   "source": [
    "##Advanced Async Programming\n",
    "import asyncio\n",
    "import aiohttp\n",
    "import async_timeout\n",
    "\n",
    "class AsyncWebScraper:\n",
    "    def __init__(self):\n",
    "        self.session = None\n",
    "\n",
    "    async def __aenter__(self):\n",
    "        self.session = aiohttp.ClientSession()\n",
    "        return self\n",
    "\n",
    "    async def __aexit__(self, exc_type, exc_val, exc_tb):\n",
    "        await self.session.close()\n",
    "\n",
    "    async def fetch_page(self, url, timeout=10):\n",
    "        async with async_timeout.timeout(timeout):\n",
    "            async with self.session.get(url) as response:\n",
    "                return await response.text()\n",
    "\n",
    "    async def process_multiple_pages(self, urls):\n",
    "        tasks = [self.fetch_page(url) for url in urls]\n",
    "        return await asyncio.gather(*tasks)\n",
    "\n",
    "# Usage\n",
    "async def main():\n",
    "    urls = [\n",
    "        'http://example.com',\n",
    "        'http://example.org',\n",
    "        'http://example.net'\n",
    "    ]\n",
    "    async with AsyncWebScraper() as scraper:\n",
    "        results = await scraper.process_multiple_pages(urls)\n"
   ]
  }
 ],
 "metadata": {
  "kernelspec": {
   "display_name": "Python 3",
   "language": "python",
   "name": "python3"
  },
  "language_info": {
   "name": "python",
   "version": "3.13.1"
  }
 },
 "nbformat": 4,
 "nbformat_minor": 2
}
