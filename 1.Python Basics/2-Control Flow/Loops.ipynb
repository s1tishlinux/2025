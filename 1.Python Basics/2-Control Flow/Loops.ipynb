{
 "cells": [
  {
   "cell_type": "markdown",
   "metadata": {},
   "source": [
    "  "
   ]
  },
  {
   "cell_type": "markdown",
   "metadata": {},
   "source": [
    "# Important points about range()\n",
    "\n",
    "1. range() generates a sequence of numbers.\n",
    "2. It can take one, two, or three arguments/parameters.\n",
    "3. range(stop): Generates numbers from 0 to stop-1.\n",
    "4. range(start, stop): Generates numbers from start to stop-1.\n",
    "5. range(start, stop, step): Generates numbers from start to stop-1, incrementing by step.\n",
    "6. The step argument can be negative to generate a sequence in reverse order.\n",
    "7. range() returns an immutable sequence type.\n",
    "8. It is commonly used in for loops to iterate over a sequence of numbers.\n",
    "\n",
    "[Memory Efficiency]\n",
    "\n",
    "\"One of the advantages of range() is its memory efficiency. It generates numbers on the fly, which means it doesn't store the entire sequence in memory. This is especially useful when working with large ranges.\""
   ]
  },
  {
   "cell_type": "code",
   "execution_count": 44,
   "metadata": {},
   "outputs": [
    {
     "data": {
      "text/plain": [
       "range(0, 10)"
      ]
     },
     "execution_count": 44,
     "metadata": {},
     "output_type": "execute_result"
    }
   ],
   "source": [
    "range(10)"
   ]
  },
  {
   "cell_type": "code",
   "execution_count": 45,
   "metadata": {},
   "outputs": [
    {
     "data": {
      "text/plain": [
       "[0, 1, 2, 3, 4, 5, 6, 7, 8, 9]"
      ]
     },
     "execution_count": 45,
     "metadata": {},
     "output_type": "execute_result"
    }
   ],
   "source": [
    "list(range(10))"
   ]
  },
  {
   "cell_type": "code",
   "execution_count": 24,
   "metadata": {},
   "outputs": [
    {
     "name": "stdout",
     "output_type": "stream",
     "text": [
      "[0, 1, 2, 3, 4, 5]\n",
      "[1, 2, 3, 4, 5]\n",
      "[1, 3, 5, 7, 9]\n",
      "[10, 9, 8, 7, 6, 5, 4, 3, 2]\n"
     ]
    }
   ],
   "source": [
    "print(list(range(6)))         \n",
    "print(list(range(1, 6)))       # [1, 2, 3, 4, 5]\n",
    "print(list(range(1, 10, 2)))   # [1, 3, 5, 7, 9]\n",
    "print(list(range(10, 1, -1)))  # [10, 9, 8, 7, 6, 5, 4, 3, 2]"
   ]
  },
  {
   "cell_type": "code",
   "execution_count": 28,
   "metadata": {},
   "outputs": [
    {
     "name": "stdout",
     "output_type": "stream",
     "text": [
      "0\n",
      "1\n",
      "2\n",
      "3\n",
      "4\n"
     ]
    }
   ],
   "source": [
    "## for loop\n",
    "\n",
    "for i in range(5):\n",
    "    print(i)"
   ]
  },
  {
   "cell_type": "code",
   "execution_count": 29,
   "metadata": {},
   "outputs": [
    {
     "name": "stdout",
     "output_type": "stream",
     "text": [
      "1\n",
      "2\n",
      "3\n",
      "4\n",
      "5\n"
     ]
    }
   ],
   "source": [
    "for i in range(1,6):\n",
    "    print(i)"
   ]
  },
  {
   "cell_type": "code",
   "execution_count": 30,
   "metadata": {},
   "outputs": [
    {
     "name": "stdout",
     "output_type": "stream",
     "text": [
      "1\n",
      "3\n",
      "5\n",
      "7\n",
      "9\n"
     ]
    }
   ],
   "source": [
    "for i in range(1,10,2):\n",
    "    print(i)"
   ]
  },
  {
   "cell_type": "code",
   "execution_count": 31,
   "metadata": {},
   "outputs": [
    {
     "name": "stdout",
     "output_type": "stream",
     "text": [
      "10\n",
      "9\n",
      "8\n",
      "7\n",
      "6\n",
      "5\n",
      "4\n",
      "3\n",
      "2\n"
     ]
    }
   ],
   "source": [
    "for i in range(10,1,-1):\n",
    "    print(i)"
   ]
  },
  {
   "cell_type": "code",
   "execution_count": 32,
   "metadata": {},
   "outputs": [
    {
     "name": "stdout",
     "output_type": "stream",
     "text": [
      "10\n",
      "8\n",
      "6\n",
      "4\n",
      "2\n"
     ]
    }
   ],
   "source": [
    "for i in range(10,1,-2):\n",
    "    print(i)"
   ]
  },
  {
   "cell_type": "code",
   "execution_count": 33,
   "metadata": {},
   "outputs": [
    {
     "name": "stdout",
     "output_type": "stream",
     "text": [
      "H\n",
      "e\n",
      "l\n",
      "l\n",
      "o\n"
     ]
    }
   ],
   "source": [
    "## strings\n",
    "\n",
    "str=\"Hello\"\n",
    "\n",
    "for i in str:\n",
    "    print(i)"
   ]
  },
  {
   "cell_type": "code",
   "execution_count": 34,
   "metadata": {},
   "outputs": [
    {
     "name": "stdout",
     "output_type": "stream",
     "text": [
      "Introduction to range()\n",
      "Basic Usage of range()\n",
      "[0, 1, 2, 3, 4]\n",
      "Using start and stop parameters\n",
      "[5, 6, 7, 8, 9]\n",
      "Using start, stop, and step parameters\n",
      "[1, 3, 5, 7, 9]\n",
      "Using negative step\n",
      "[10, 9, 8, 7, 6, 5, 4, 3, 2, 1]\n",
      "Using range() in a for loop\n",
      "0\n",
      "1\n",
      "2\n",
      "3\n",
      "4\n",
      "Converting range() to a list\n",
      "[0, 1, 2, 3, 4]\n",
      "Memory Efficiency of range()\n",
      "Common Mistakes with range()\n",
      "Advanced Usage of range()\n",
      "Practical Examples of range()\n",
      "Conclusion\n"
     ]
    }
   ],
   "source": [
    "# Introduction\n",
    "print(\"Introduction to range()\")\n",
    "\n",
    "# Basic Usage\n",
    "print(\"Basic Usage of range()\")\n",
    "print(list(range(5)))  # Output: [0, 1, 2, 3, 4]\n",
    "\n",
    "# Parameters of range()\n",
    "print(\"Using start and stop parameters\")\n",
    "print(list(range(5, 10)))  # Output: [5, 6, 7, 8, 9]\n",
    "\n",
    "print(\"Using start, stop, and step parameters\")\n",
    "print(list(range(1, 10, 2)))  # Output: [1, 3, 5, 7, 9]\n",
    "\n",
    "print(\"Using negative step\")\n",
    "print(list(range(10, 0, -1)))  # Output: [10, 9, 8, 7, 6, 5, 4, 3, 2, 1]\n",
    "\n",
    "# Using range() in loops\n",
    "print(\"Using range() in a for loop\")\n",
    "for i in range(5):\n",
    "    print(i)\n",
    "\n",
    "# Converting range() to a list\n",
    "print(\"Converting range() to a list\")\n",
    "print(list(range(5)))  # Output: [0, 1, 2, 3, 4]\n",
    "\n",
    "# Memory Efficiency\n",
    "print(\"Memory Efficiency of range()\")\n",
    "# Demonstrate with a large range\n",
    "\n",
    "# Common Mistakes\n",
    "print(\"Common Mistakes with range()\")\n",
    "# Examples of common mistakes\n",
    "\n",
    "# Advanced Usage\n",
    "print(\"Advanced Usage of range()\")\n",
    "# Examples of advanced usage\n",
    "\n",
    "# Practical Examples\n",
    "print(\"Practical Examples of range()\")\n",
    "# Examples of practical usage\n",
    "\n",
    "# Conclusion\n",
    "print(\"Conclusion\")"
   ]
  },
  {
   "cell_type": "code",
   "execution_count": null,
   "metadata": {},
   "outputs": [],
   "source": []
  },
  {
   "cell_type": "code",
   "execution_count": 2,
   "metadata": {},
   "outputs": [
    {
     "name": "stdout",
     "output_type": "stream",
     "text": [
      "0\n",
      "1\n",
      "2\n",
      "3\n",
      "4\n"
     ]
    }
   ],
   "source": [
    "## while loop\n",
    "\"\"\"\n",
    "This script demonstrates the use of a while loop in Python.\n",
    "The while loop continues to execute as long as the specified condition is True.\n",
    "In this example, the loop will run as long as the variable 'count' is less than 8.\n",
    "\n",
    "Variables:\n",
    "    count (int): A counter variable initialized to 0.\n",
    "\n",
    "The loop performs the following actions:\n",
    "1. Prints the current value of 'count'.\n",
    "2. Increments 'count' by 1.\n",
    "The loop terminates when 'count' reaches 5.\n",
    "\"\"\"\n",
    "\n",
    "\n",
    "count=0                  # initialization\n",
    "\n",
    "while count<8:           # condition: loop will run as long as count is less than 8\n",
    "    print(count)         # statement: print the current value of count\n",
    "    count=count+1        # increment: increase count by 1\n",
    "    "
   ]
  },
  {
   "cell_type": "code",
   "execution_count": null,
   "metadata": {},
   "outputs": [],
   "source": []
  },
  {
   "cell_type": "code",
   "execution_count": 36,
   "metadata": {},
   "outputs": [
    {
     "name": "stdout",
     "output_type": "stream",
     "text": [
      "0\n",
      "1\n",
      "2\n",
      "3\n",
      "4\n"
     ]
    }
   ],
   "source": [
    "## Loop Control Statements\n",
    "\n",
    "## break\n",
    "## The break statement exits the loop permaturely\n",
    "\n",
    "## break sstatement\n",
    "\n",
    "for i in range(10):\n",
    "    if i==5:\n",
    "        break\n",
    "    print(i)\n",
    "   "
   ]
  },
  {
   "cell_type": "code",
   "execution_count": 37,
   "metadata": {},
   "outputs": [
    {
     "name": "stdout",
     "output_type": "stream",
     "text": [
      "1\n",
      "3\n",
      "5\n",
      "7\n",
      "9\n"
     ]
    }
   ],
   "source": [
    "## continue\n",
    "\n",
    "## The continue statement skips the current iteration and continues with the next.\n",
    "\n",
    "for i in range(10):\n",
    "    if i%2==0:\n",
    "        continue\n",
    "    print(i)\n",
    "\n",
    "\n"
   ]
  },
  {
   "cell_type": "code",
   "execution_count": 38,
   "metadata": {},
   "outputs": [
    {
     "name": "stdout",
     "output_type": "stream",
     "text": [
      "0\n",
      "1\n",
      "2\n",
      "3\n",
      "4\n"
     ]
    }
   ],
   "source": [
    "## pass\n",
    "## The pass statement is a null operation; it does nothing.\n",
    "\n",
    "for i in range(5):\n",
    "    if i==3:\n",
    "        pass\n",
    "    print(i)\n"
   ]
  },
  {
   "cell_type": "code",
   "execution_count": 39,
   "metadata": {},
   "outputs": [
    {
     "name": "stdout",
     "output_type": "stream",
     "text": [
      "i:0 and j:0\n",
      "i:0 and j:1\n",
      "i:1 and j:0\n",
      "i:1 and j:1\n",
      "i:2 and j:0\n",
      "i:2 and j:1\n"
     ]
    }
   ],
   "source": [
    "## Nested loopss\n",
    "## a loop inside a loop\n",
    "\n",
    "for i in range(3):\n",
    "    for j in range(2):\n",
    "        print(f\"i:{i} and j:{j}\")"
   ]
  },
  {
   "cell_type": "code",
   "execution_count": 40,
   "metadata": {},
   "outputs": [
    {
     "name": "stdout",
     "output_type": "stream",
     "text": [
      "Sum of first 10 natural number: 55\n"
     ]
    }
   ],
   "source": [
    "## Examples- Calculate the sum of first N natural numbers using a while and for loop\n",
    "\n",
    "## while loop  \n",
    "\n",
    "n=10   \n",
    "sum=0\n",
    "count=1\n",
    "\n",
    "while count<=n:\n",
    "    sum=sum+count\n",
    "    count=count+1\n",
    "\n",
    "print(\"Sum of first 10 natural number:\",sum)\n"
   ]
  },
  {
   "cell_type": "code",
   "execution_count": 41,
   "metadata": {},
   "outputs": [
    {
     "name": "stdout",
     "output_type": "stream",
     "text": [
      "55\n"
     ]
    }
   ],
   "source": [
    "n=10   \n",
    "sum=0\n",
    "for i in range(11):\n",
    "    sum=sum+i\n",
    "\n",
    "print(sum)"
   ]
  },
  {
   "cell_type": "code",
   "execution_count": 42,
   "metadata": {},
   "outputs": [
    {
     "name": "stdout",
     "output_type": "stream",
     "text": [
      "2\n",
      "3\n",
      "5\n",
      "7\n",
      "11\n",
      "13\n",
      "17\n",
      "19\n",
      "23\n",
      "29\n",
      "31\n",
      "37\n",
      "41\n",
      "43\n",
      "47\n",
      "53\n",
      "59\n",
      "61\n",
      "67\n",
      "71\n",
      "73\n",
      "79\n",
      "83\n",
      "89\n",
      "97\n"
     ]
    }
   ],
   "source": [
    "## Example- Prime numbers between 1 and 100\n",
    "\n",
    "for num in range(1,101):\n",
    "    if num>1:\n",
    "        for i in range(2,num):\n",
    "            if num%i==0:\n",
    "                break\n",
    "        else:\n",
    "            print(num)"
   ]
  },
  {
   "cell_type": "markdown",
   "metadata": {},
   "source": [
    "#### Conclusion:\n",
    "Loops are powerful constructs in Python that allow you to execute a block of code multiple times. By understanding and using for and while loops, along with loop control statements like break, continue, and pass, you can handle a wide range of programming tasks efficiently."
   ]
  },
  {
   "cell_type": "code",
   "execution_count": null,
   "metadata": {},
   "outputs": [],
   "source": []
  }
 ],
 "metadata": {
  "kernelspec": {
   "display_name": "base",
   "language": "python",
   "name": "python3"
  },
  "language_info": {
   "codemirror_mode": {
    "name": "ipython",
    "version": 3
   },
   "file_extension": ".py",
   "mimetype": "text/x-python",
   "name": "python",
   "nbconvert_exporter": "python",
   "pygments_lexer": "ipython3",
   "version": "3.12.7"
  }
 },
 "nbformat": 4,
 "nbformat_minor": 2
}
