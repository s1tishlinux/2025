{
 "cells": [
  {
   "cell_type": "code",
   "execution_count": null,
   "metadata": {},
   "outputs": [],
   "source": [
    "# List operations\n",
    "fruits = [\"apple\", \"banana\", \"orange\"]\n",
    "fruits.append(\"grape\")      # Add item\n",
    "fruits.remove(\"banana\")     # Remove item\n",
    "print(fruits[0])           # Access item\n",
    "print(len(fruits))         # List length\n",
    "fruits.sort()              # Sort list\n"
   ]
  }
 ],
 "metadata": {
  "kernelspec": {
   "display_name": "Python 3",
   "language": "python",
   "name": "python3"
  },
  "language_info": {
   "name": "python",
   "version": "3.13.1"
  }
 },
 "nbformat": 4,
 "nbformat_minor": 2
}
