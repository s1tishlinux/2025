{
 "cells": [
  {
   "cell_type": "code",
   "execution_count": null,
   "metadata": {},
   "outputs": [],
   "source": [
    "##Working with APIs\n",
    "import requests\n",
    "import json\n",
    "\n",
    "# Making API requests\n",
    "def get_weather(city):\n",
    "    api_key = \"your_api_key\"\n",
    "    url = f\"http://api.openweathermap.org/data/2.5/weather?q={city}&appid={api_key}\"\n",
    "    \n",
    "    response = requests.get(url)\n",
    "    if response.status_code == 200:\n",
    "        data = response.json()\n",
    "        return data\n",
    "    else:\n",
    "        return None\n",
    "\n",
    "# Posting data to API\n",
    "def create_post():\n",
    "    url = \"https://jsonplaceholder.typicode.com/posts\"\n",
    "    data = {\n",
    "        \"title\": \"New Post\",\n",
    "        \"body\": \"Post content\",\n",
    "        \"userId\": 1\n",
    "    }\n",
    "    response = requests.post(url, json=data)\n",
    "    return response.json()\n"
   ]
  }
 ],
 "metadata": {
  "kernelspec": {
   "display_name": "Python 3",
   "language": "python",
   "name": "python3"
  },
  "language_info": {
   "name": "python",
   "version": "3.13.1"
  }
 },
 "nbformat": 4,
 "nbformat_minor": 2
}
