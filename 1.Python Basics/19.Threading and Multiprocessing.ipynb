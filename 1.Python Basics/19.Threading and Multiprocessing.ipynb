{
 "cells": [
  {
   "cell_type": "code",
   "execution_count": null,
   "metadata": {},
   "outputs": [],
   "source": [
    "##Purpose: Learn how to use threads and processes for concurrent and parallel programming.\n",
    "import threading\n",
    "import time\n",
    "\n",
    "def print_numbers():\n",
    "    for i in range(5):\n",
    "        print(f\"Number: {i}\")\n",
    "        time.sleep(1)\n",
    "\n",
    "# Thread example\n",
    "thread = threading.Thread(target=print_numbers)\n",
    "thread.start()\n",
    "thread.join()\n",
    "\n",
    "print(\"Threading complete!\")"
   ]
  }
 ],
 "metadata": {
  "kernelspec": {
   "display_name": "Python 3",
   "language": "python",
   "name": "python3"
  },
  "language_info": {
   "name": "python",
   "version": "3.13.1"
  }
 },
 "nbformat": 4,
 "nbformat_minor": 2
}
