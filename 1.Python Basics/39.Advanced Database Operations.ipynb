{
 "cells": [
  {
   "cell_type": "code",
   "execution_count": null,
   "metadata": {},
   "outputs": [],
   "source": [
    "##Advanced Database Operations\n",
    "import sqlalchemy as sa\n",
    "from sqlalchemy.ext.declarative import declarative_base\n",
    "from sqlalchemy.orm import sessionmaker\n",
    "\n",
    "Base = declarative_base()\n",
    "\n",
    "class User(Base):\n",
    "    __tablename__ = 'users'\n",
    "    \n",
    "    id = sa.Column(sa.Integer, primary_key=True)\n",
    "    name = sa.Column(sa.String)\n",
    "    email = sa.Column(sa.String, unique=True)\n",
    "\n",
    "    def __repr__(self):\n",
    "        return f\"<User(name='{self.name}', email='{self.email}')>\"\n",
    "\n",
    "# Database session management\n",
    "class DatabaseManager:\n",
    "    def __init__(self, connection_string):\n",
    "        self.engine = sa.create_engine(connection_string)\n",
    "        Base.metadata.create_all(self.engine)\n",
    "        self.Session = sessionmaker(bind=self.engine)\n",
    "\n",
    "    def __enter__(self):\n",
    "        self.session = self.Session()\n",
    "        return self.session\n",
    "\n",
    "    def __exit__(self, exc_type, exc_val, exc_tb):\n",
    "        if exc_type is None:\n",
    "            self.session.commit()\n",
    "        else:\n",
    "            self.session.rollback()\n",
    "        self.session.close()\n"
   ]
  }
 ],
 "metadata": {
  "kernelspec": {
   "display_name": "Python 3",
   "language": "python",
   "name": "python3"
  },
  "language_info": {
   "name": "python",
   "version": "3.13.1"
  }
 },
 "nbformat": 4,
 "nbformat_minor": 2
}
