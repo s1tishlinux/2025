{
 "cells": [
  {
   "cell_type": "code",
   "execution_count": 2,
   "metadata": {},
   "outputs": [
    {
     "name": "stdout",
     "output_type": "stream",
     "text": [
      "Name: John\n",
      "Age: 25\n",
      "Height: 5.9\n",
      "Height: 5.9\n"
     ]
    }
   ],
   "source": [
    "# Basic variable assignments\n",
    "name = \"John\"               # String\n",
    "age = 25                    # Integer\n",
    "height = 5.9               # Float\n",
    "is_student = True          # Boolean\n",
    "\n",
    "# Printing variables\n",
    "print(\"Name:\", name)\n",
    "print(\"Age:\", age)\n",
    "print(\"Height:\", height)\n",
    "\n",
    "# Or using f-string:\n",
    "height = 5.9\n",
    "print(f\"Height: {height}\") # This will print: Height: 5.9\n",
    "\n",
    "\n",
    "\n"
   ]
  },
  {
   "cell_type": "markdown",
   "metadata": {},
   "source": [
    "\n"
   ]
  },
  {
   "cell_type": "markdown",
   "metadata": {},
   "source": []
  },
  {
   "cell_type": "code",
   "execution_count": 3,
   "metadata": {},
   "outputs": [
    {
     "name": "stdout",
     "output_type": "stream",
     "text": [
      "B method\n",
      "(<class '__main__.D'>, <class '__main__.B'>, <class '__main__.C'>, <class '__main__.A'>, <class 'object'>)\n",
      "True\n",
      "True\n",
      "True\n",
      "Shows which method implementation will be used\n",
      "<bound method B.method of <__main__.D object at 0x107abc6e0>>\n"
     ]
    }
   ],
   "source": [
    "class A:\n",
    "    def method(self):\n",
    "        print(\"A method\")\n",
    "class B(A):\n",
    "    def method(self):\n",
    "        print(\"B method\")\n",
    "class C(A):\n",
    "    def method(self):\n",
    "        print(\"C method\")\n",
    "class D(B,C):\n",
    "        #C.method(self)\n",
    "        #B.method(self)\n",
    "        #A.method(self)\n",
    "\n",
    "    pass\n",
    "d = D()\n",
    "d.method()\n",
    "\n",
    "print(D.__mro__)\n",
    "\n",
    "\n",
    "#Or check if class is in the MRO\n",
    "print(C in D.__mro__)\n",
    "print(B in D.__mro__)\n",
    "print(issubclass(D, A))\n",
    "\n",
    "\n",
    "print(\"Shows which method implementation will be used\")\n",
    "print(D.__getattribute__(d, 'method'))  # Shows which method implementation will be used\n",
    "\n",
    "\n"
   ]
  },
  {
   "cell_type": "code",
   "execution_count": 4,
   "metadata": {},
   "outputs": [
    {
     "name": "stdout",
     "output_type": "stream",
     "text": [
      "B method\n",
      "(<class '__main__.D'>, <class '__main__.B'>, <class '__main__.C'>, <class '__main__.A'>, <class 'object'>)\n",
      "True\n",
      "True\n",
      "True\n",
      "Shows which method implementation will be used\n",
      "<bound method B.method of <__main__.D object at 0x107abc590>>\n"
     ]
    }
   ],
   "source": [
    "class A:\n",
    "    def method(self):\n",
    "        print(\"A method\")\n",
    "class B(A):\n",
    "    def method(self):\n",
    "        print(\"B method\")\n",
    "class C(A):\n",
    "    def method(self):\n",
    "        print(\"C method\")\n",
    "class D(B,C):\n",
    "        #C.method(self)\n",
    "        #B.method(self)\n",
    "        #A.method(self)\n",
    "\n",
    "    pass\n",
    "d = D()\n",
    "d.method()\n",
    "\n",
    "print(D.__mro__)\n",
    "\n",
    "\n",
    "#Or check if class is in the MRO\n",
    "print(C in D.__mro__)\n",
    "print(B in D.__mro__)\n",
    "print(issubclass(D, A))\n",
    "\n",
    "\n",
    "print(\"Shows which method implementation will be used\")\n",
    "print(D.__getattribute__(d, 'method'))  # Shows which method implementation will be used\n",
    "\n",
    "\n"
   ]
  },
  {
   "cell_type": "code",
   "execution_count": 5,
   "metadata": {},
   "outputs": [
    {
     "name": "stdout",
     "output_type": "stream",
     "text": [
      "B method\n",
      "(<class '__main__.D'>, <class '__main__.B'>, <class '__main__.C'>, <class '__main__.A'>, <class 'object'>)\n",
      "True\n",
      "True\n",
      "True\n",
      "Shows which method implementation will be used\n",
      "<bound method B.method of <__main__.D object at 0x107abc6e0>>\n"
     ]
    }
   ],
   "source": [
    "class A:\n",
    "    def method(self):\n",
    "        print(\"A method\")\n",
    "class B(A):\n",
    "    def method(self):\n",
    "        print(\"B method\")\n",
    "class C(A):\n",
    "    def method(self):\n",
    "        print(\"C method\")\n",
    "class D(B,C):\n",
    "        #C.method(self)\n",
    "        #B.method(self)\n",
    "        #A.method(self)\n",
    "\n",
    "    pass\n",
    "d = D()\n",
    "d.method()\n",
    "\n",
    "print(D.__mro__)\n",
    "\n",
    "\n",
    "#Or check if class is in the MRO\n",
    "print(C in D.__mro__)\n",
    "print(B in D.__mro__)\n",
    "print(issubclass(D, A))\n",
    "\n",
    "\n",
    "print(\"Shows which method implementation will be used\")\n",
    "print(D.__getattribute__(d, 'method'))  # Shows which method implementation will be used\n",
    "\n",
    "\n"
   ]
  },
  {
   "cell_type": "code",
   "execution_count": 6,
   "metadata": {},
   "outputs": [
    {
     "name": "stdout",
     "output_type": "stream",
     "text": [
      "B method\n",
      "(<class '__main__.D'>, <class '__main__.B'>, <class '__main__.C'>, <class '__main__.A'>, <class 'object'>)\n",
      "True\n",
      "True\n",
      "True\n",
      "Shows which method implementation will be used\n",
      "<bound method B.method of <__main__.D object at 0x107abc590>>\n"
     ]
    }
   ],
   "source": [
    "class A:\n",
    "    def method(self):\n",
    "        print(\"A method\")\n",
    "class B(A):\n",
    "    def method(self):\n",
    "        print(\"B method\")\n",
    "class C(A):\n",
    "    def method(self):\n",
    "        print(\"C method\")\n",
    "class D(B,C):\n",
    "        #C.method(self)\n",
    "        #B.method(self)\n",
    "        #A.method(self)\n",
    "\n",
    "    pass\n",
    "d = D()\n",
    "d.method()\n",
    "\n",
    "print(D.__mro__)\n",
    "\n",
    "\n",
    "#Or check if class is in the MRO\n",
    "print(C in D.__mro__)\n",
    "print(B in D.__mro__)\n",
    "print(issubclass(D, A))\n",
    "\n",
    "\n",
    "print(\"Shows which method implementation will be used\")\n",
    "print(D.__getattribute__(d, 'method'))  # Shows which method implementation will be used\n",
    "\n",
    "\n"
   ]
  },
  {
   "cell_type": "code",
   "execution_count": 7,
   "metadata": {},
   "outputs": [
    {
     "name": "stdout",
     "output_type": "stream",
     "text": [
      "B method\n",
      "(<class '__main__.D'>, <class '__main__.B'>, <class '__main__.C'>, <class '__main__.A'>, <class 'object'>)\n",
      "True\n",
      "True\n",
      "True\n",
      "Shows which method implementation will be used\n",
      "<bound method B.method of <__main__.D object at 0x107abc6e0>>\n"
     ]
    }
   ],
   "source": [
    "class A:\n",
    "    def method(self):\n",
    "        print(\"A method\")\n",
    "class B(A):\n",
    "    def method(self):\n",
    "        print(\"B method\")\n",
    "class C(A):\n",
    "    def method(self):\n",
    "        print(\"C method\")\n",
    "class D(B,C):\n",
    "        #C.method(self)\n",
    "        #B.method(self)\n",
    "        #A.method(self)\n",
    "\n",
    "    pass\n",
    "d = D()\n",
    "d.method()\n",
    "\n",
    "print(D.__mro__)\n",
    "\n",
    "\n",
    "#Or check if class is in the MRO\n",
    "print(C in D.__mro__)\n",
    "print(B in D.__mro__)\n",
    "print(issubclass(D, A))\n",
    "\n",
    "\n",
    "print(\"Shows which method implementation will be used\")\n",
    "print(D.__getattribute__(d, 'method'))  # Shows which method implementation will be used\n",
    "\n",
    "\n"
   ]
  },
  {
   "cell_type": "code",
   "execution_count": 8,
   "metadata": {},
   "outputs": [
    {
     "name": "stdout",
     "output_type": "stream",
     "text": [
      "B method\n",
      "(<class '__main__.D'>, <class '__main__.B'>, <class '__main__.C'>, <class '__main__.A'>, <class 'object'>)\n",
      "True\n",
      "True\n",
      "True\n",
      "Shows which method implementation will be used\n",
      "<bound method B.method of <__main__.D object at 0x107abc590>>\n"
     ]
    }
   ],
   "source": [
    "class A:\n",
    "    def method(self):\n",
    "        print(\"A method\")\n",
    "class B(A):\n",
    "    def method(self):\n",
    "        print(\"B method\")\n",
    "class C(A):\n",
    "    def method(self):\n",
    "        print(\"C method\")\n",
    "class D(B,C):\n",
    "        #C.method(self)\n",
    "        #B.method(self)\n",
    "        #A.method(self)\n",
    "\n",
    "    pass\n",
    "d = D()\n",
    "d.method()\n",
    "\n",
    "print(D.__mro__)\n",
    "\n",
    "\n",
    "#Or check if class is in the MRO\n",
    "print(C in D.__mro__)\n",
    "print(B in D.__mro__)\n",
    "print(issubclass(D, A))\n",
    "\n",
    "\n",
    "print(\"Shows which method implementation will be used\")\n",
    "print(D.__getattribute__(d, 'method'))  # Shows which method implementation will be used\n",
    "\n",
    "\n"
   ]
  },
  {
   "cell_type": "code",
   "execution_count": 9,
   "metadata": {},
   "outputs": [
    {
     "name": "stdout",
     "output_type": "stream",
     "text": [
      "B method\n",
      "(<class '__main__.D'>, <class '__main__.B'>, <class '__main__.C'>, <class '__main__.A'>, <class 'object'>)\n",
      "True\n",
      "True\n",
      "True\n",
      "Shows which method implementation will be used\n",
      "<bound method B.method of <__main__.D object at 0x107abc6e0>>\n"
     ]
    }
   ],
   "source": [
    "class A:\n",
    "    def method(self):\n",
    "        print(\"A method\")\n",
    "class B(A):\n",
    "    def method(self):\n",
    "        print(\"B method\")\n",
    "class C(A):\n",
    "    def method(self):\n",
    "        print(\"C method\")\n",
    "class D(B,C):\n",
    "        #C.method(self)\n",
    "        #B.method(self)\n",
    "        #A.method(self)\n",
    "\n",
    "    pass\n",
    "d = D()\n",
    "d.method()\n",
    "\n",
    "print(D.__mro__)\n",
    "\n",
    "\n",
    "#Or check if class is in the MRO\n",
    "print(C in D.__mro__)\n",
    "print(B in D.__mro__)\n",
    "print(issubclass(D, A))\n",
    "\n",
    "\n",
    "print(\"Shows which method implementation will be used\")\n",
    "print(D.__getattribute__(d, 'method'))  # Shows which method implementation will be used\n",
    "\n",
    "\n"
   ]
  }
 ],
 "metadata": {
  "kernelspec": {
   "display_name": "Python 3",
   "language": "python",
   "name": "python3"
  },
  "language_info": {
   "codemirror_mode": {
    "name": "ipython",
    "version": 3
   },
   "file_extension": ".py",
   "mimetype": "text/x-python",
   "name": "python",
   "nbconvert_exporter": "python",
   "pygments_lexer": "ipython3",
   "version": "3.13.1"
  }
 },
 "nbformat": 4,
 "nbformat_minor": 2
}
